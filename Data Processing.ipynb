{
 "cells": [
  {
   "cell_type": "code",
   "execution_count": 320,
   "metadata": {},
   "outputs": [],
   "source": [
    "import pandas as pd\n",
    "import numpy as np\n",
    "import math\n",
    "from matplotlib import pyplot as plt\n",
    "%matplotlib inline\n",
    "\n",
    "# read in the json files\n",
    "transcript = pd.read_csv('data/full_table.csv')"
   ]
  },
  {
   "cell_type": "markdown",
   "metadata": {},
   "source": [
    "## Summary of the \"Data Exploration\" Notebook"
   ]
  },
  {
   "cell_type": "markdown",
   "metadata": {},
   "source": [
    "In the `Data Exploration` notebook the following variables were created:\n",
    "\n",
    "- **offer_is_completed**: Mark 1 or 0 (True or False) if the received offer were completed in the future.\n",
    "- **amount_when_completed**: The total spending when the offer is completed starting when the offer is received.\n",
    "\n",
    "The next two variables are similar to the previous one but show the information on the completed offer row.\n",
    "- **sum_amount**: Similar to **amount_when_completed**\n",
    "- **offer_index_received**: Index of the received offer.\n",
    "\n",
    "Also the **transcript** dataframe is sorted by **person** and **days** in ascending order.\n",
    "\n",
    "Another extra variables were created:\n",
    "\n",
    "- **days**: It's a transformation of the time variable to days.\n",
    "- **offer_id**: Get the offer id from value column.\n",
    "- **amount**: Get the amount transaction from value column."
   ]
  },
  {
   "cell_type": "code",
   "execution_count": 321,
   "metadata": {},
   "outputs": [
    {
     "data": {
      "text/html": [
       "<div>\n",
       "<style scoped>\n",
       "    .dataframe tbody tr th:only-of-type {\n",
       "        vertical-align: middle;\n",
       "    }\n",
       "\n",
       "    .dataframe tbody tr th {\n",
       "        vertical-align: top;\n",
       "    }\n",
       "\n",
       "    .dataframe thead th {\n",
       "        text-align: right;\n",
       "    }\n",
       "</style>\n",
       "<table border=\"1\" class=\"dataframe\">\n",
       "  <thead>\n",
       "    <tr style=\"text-align: right;\">\n",
       "      <th></th>\n",
       "      <th>days</th>\n",
       "      <th>event</th>\n",
       "      <th>channels</th>\n",
       "      <th>amount</th>\n",
       "      <th>reward</th>\n",
       "      <th>duration</th>\n",
       "      <th>difficulty</th>\n",
       "      <th>offer_type</th>\n",
       "      <th>offer_is_completed</th>\n",
       "      <th>amount_when_completed</th>\n",
       "    </tr>\n",
       "  </thead>\n",
       "  <tbody>\n",
       "    <tr>\n",
       "      <th>0</th>\n",
       "      <td>7.00</td>\n",
       "      <td>offer received</td>\n",
       "      <td>['email', 'mobile', 'social']</td>\n",
       "      <td>NaN</td>\n",
       "      <td>0.0</td>\n",
       "      <td>3.0</td>\n",
       "      <td>0.0</td>\n",
       "      <td>informational</td>\n",
       "      <td>0</td>\n",
       "      <td>0.0</td>\n",
       "    </tr>\n",
       "    <tr>\n",
       "      <th>1</th>\n",
       "      <td>8.00</td>\n",
       "      <td>offer viewed</td>\n",
       "      <td>['email', 'mobile', 'social']</td>\n",
       "      <td>NaN</td>\n",
       "      <td>0.0</td>\n",
       "      <td>3.0</td>\n",
       "      <td>0.0</td>\n",
       "      <td>informational</td>\n",
       "      <td>0</td>\n",
       "      <td>0.0</td>\n",
       "    </tr>\n",
       "    <tr>\n",
       "      <th>2</th>\n",
       "      <td>9.50</td>\n",
       "      <td>transaction</td>\n",
       "      <td>NaN</td>\n",
       "      <td>22.16</td>\n",
       "      <td>NaN</td>\n",
       "      <td>NaN</td>\n",
       "      <td>NaN</td>\n",
       "      <td>NaN</td>\n",
       "      <td>0</td>\n",
       "      <td>0.0</td>\n",
       "    </tr>\n",
       "    <tr>\n",
       "      <th>3</th>\n",
       "      <td>14.00</td>\n",
       "      <td>offer received</td>\n",
       "      <td>['web', 'email', 'mobile']</td>\n",
       "      <td>NaN</td>\n",
       "      <td>0.0</td>\n",
       "      <td>4.0</td>\n",
       "      <td>0.0</td>\n",
       "      <td>informational</td>\n",
       "      <td>0</td>\n",
       "      <td>0.0</td>\n",
       "    </tr>\n",
       "    <tr>\n",
       "      <th>4</th>\n",
       "      <td>15.50</td>\n",
       "      <td>offer viewed</td>\n",
       "      <td>['web', 'email', 'mobile']</td>\n",
       "      <td>NaN</td>\n",
       "      <td>0.0</td>\n",
       "      <td>4.0</td>\n",
       "      <td>0.0</td>\n",
       "      <td>informational</td>\n",
       "      <td>0</td>\n",
       "      <td>0.0</td>\n",
       "    </tr>\n",
       "    <tr>\n",
       "      <th>...</th>\n",
       "      <td>...</td>\n",
       "      <td>...</td>\n",
       "      <td>...</td>\n",
       "      <td>...</td>\n",
       "      <td>...</td>\n",
       "      <td>...</td>\n",
       "      <td>...</td>\n",
       "      <td>...</td>\n",
       "      <td>...</td>\n",
       "      <td>...</td>\n",
       "    </tr>\n",
       "    <tr>\n",
       "      <th>306529</th>\n",
       "      <td>24.00</td>\n",
       "      <td>transaction</td>\n",
       "      <td>NaN</td>\n",
       "      <td>14.23</td>\n",
       "      <td>NaN</td>\n",
       "      <td>NaN</td>\n",
       "      <td>NaN</td>\n",
       "      <td>NaN</td>\n",
       "      <td>0</td>\n",
       "      <td>0.0</td>\n",
       "    </tr>\n",
       "    <tr>\n",
       "      <th>306530</th>\n",
       "      <td>24.00</td>\n",
       "      <td>offer completed</td>\n",
       "      <td>NaN</td>\n",
       "      <td>NaN</td>\n",
       "      <td>NaN</td>\n",
       "      <td>NaN</td>\n",
       "      <td>NaN</td>\n",
       "      <td>NaN</td>\n",
       "      <td>0</td>\n",
       "      <td>0.0</td>\n",
       "    </tr>\n",
       "    <tr>\n",
       "      <th>306531</th>\n",
       "      <td>24.25</td>\n",
       "      <td>offer viewed</td>\n",
       "      <td>['web', 'email', 'mobile']</td>\n",
       "      <td>NaN</td>\n",
       "      <td>2.0</td>\n",
       "      <td>7.0</td>\n",
       "      <td>10.0</td>\n",
       "      <td>discount</td>\n",
       "      <td>0</td>\n",
       "      <td>0.0</td>\n",
       "    </tr>\n",
       "    <tr>\n",
       "      <th>306532</th>\n",
       "      <td>25.25</td>\n",
       "      <td>transaction</td>\n",
       "      <td>NaN</td>\n",
       "      <td>10.12</td>\n",
       "      <td>NaN</td>\n",
       "      <td>NaN</td>\n",
       "      <td>NaN</td>\n",
       "      <td>NaN</td>\n",
       "      <td>0</td>\n",
       "      <td>0.0</td>\n",
       "    </tr>\n",
       "    <tr>\n",
       "      <th>306533</th>\n",
       "      <td>27.00</td>\n",
       "      <td>transaction</td>\n",
       "      <td>NaN</td>\n",
       "      <td>18.91</td>\n",
       "      <td>NaN</td>\n",
       "      <td>NaN</td>\n",
       "      <td>NaN</td>\n",
       "      <td>NaN</td>\n",
       "      <td>0</td>\n",
       "      <td>0.0</td>\n",
       "    </tr>\n",
       "  </tbody>\n",
       "</table>\n",
       "<p>306534 rows × 10 columns</p>\n",
       "</div>"
      ],
      "text/plain": [
       "         days            event                       channels  amount  reward  \\\n",
       "0        7.00   offer received  ['email', 'mobile', 'social']     NaN     0.0   \n",
       "1        8.00     offer viewed  ['email', 'mobile', 'social']     NaN     0.0   \n",
       "2        9.50      transaction                            NaN   22.16     NaN   \n",
       "3       14.00   offer received     ['web', 'email', 'mobile']     NaN     0.0   \n",
       "4       15.50     offer viewed     ['web', 'email', 'mobile']     NaN     0.0   \n",
       "...       ...              ...                            ...     ...     ...   \n",
       "306529  24.00      transaction                            NaN   14.23     NaN   \n",
       "306530  24.00  offer completed                            NaN     NaN     NaN   \n",
       "306531  24.25     offer viewed     ['web', 'email', 'mobile']     NaN     2.0   \n",
       "306532  25.25      transaction                            NaN   10.12     NaN   \n",
       "306533  27.00      transaction                            NaN   18.91     NaN   \n",
       "\n",
       "        duration  difficulty     offer_type  offer_is_completed  \\\n",
       "0            3.0         0.0  informational                   0   \n",
       "1            3.0         0.0  informational                   0   \n",
       "2            NaN         NaN            NaN                   0   \n",
       "3            4.0         0.0  informational                   0   \n",
       "4            4.0         0.0  informational                   0   \n",
       "...          ...         ...            ...                 ...   \n",
       "306529       NaN         NaN            NaN                   0   \n",
       "306530       NaN         NaN            NaN                   0   \n",
       "306531       7.0        10.0       discount                   0   \n",
       "306532       NaN         NaN            NaN                   0   \n",
       "306533       NaN         NaN            NaN                   0   \n",
       "\n",
       "        amount_when_completed  \n",
       "0                         0.0  \n",
       "1                         0.0  \n",
       "2                         0.0  \n",
       "3                         0.0  \n",
       "4                         0.0  \n",
       "...                       ...  \n",
       "306529                    0.0  \n",
       "306530                    0.0  \n",
       "306531                    0.0  \n",
       "306532                    0.0  \n",
       "306533                    0.0  \n",
       "\n",
       "[306534 rows x 10 columns]"
      ]
     },
     "execution_count": 321,
     "metadata": {},
     "output_type": "execute_result"
    }
   ],
   "source": [
    "col_inspect = ['days', 'event', 'channels','amount', 'reward', 'duration', 'difficulty', 'offer_type', 'offer_is_completed', 'amount_when_completed']\n",
    "transcript[col_inspect] "
   ]
  },
  {
   "cell_type": "markdown",
   "metadata": {},
   "source": [
    "## Split data in train and test subset"
   ]
  },
  {
   "cell_type": "code",
   "execution_count": 485,
   "metadata": {},
   "outputs": [
    {
     "data": {
      "text/plain": [
       "Text(0.5, 1.0, 'Frequency of how many offers received each customers')"
      ]
     },
     "execution_count": 485,
     "metadata": {},
     "output_type": "execute_result"
    },
    {
     "data": {
      "image/png": "[encoded data removed]",
      "text/plain": [
       "<Figure size 432x288 with 1 Axes>"
      ]
     },
     "metadata": {
      "needs_background": "light"
     },
     "output_type": "display_data"
    }
   ],
   "source": [
    "frequency_offer_received_by_person = transcript[(transcript['event'] == 'offer received') & (transcript['offer_type'] != 'informational')].groupby(['person']).count()['event'].values\n",
    "plt.hist(frequency_offer_received_by_person, alpha=0.8)\n",
    "plt.title(\"Frequency of how many offers received each customers\")"
   ]
  },
  {
   "cell_type": "markdown",
   "metadata": {},
   "source": [
    "Most of the customers received 4 or 5 offers. So we are going to select just one offer recieved for each customers. This method avoid any bias for those customers with more offers."
   ]
  },
  {
   "cell_type": "markdown",
   "metadata": {},
   "source": [
    "### Selecting just one offer received for each customer\n",
    "\n",
    "We are  going to create a column `selected for model offer` for each customer to mark if were selected for our model. Then, over this selection we are going to split the data in train and test subsets."
   ]
  },
  {
   "cell_type": "code",
   "execution_count": 323,
   "metadata": {},
   "outputs": [],
   "source": [
    "#From the previous notebook we have 17.000 unique customers. So we will expect a similar number.\n",
    "transcript['selected_for_model_offer'] = 0\n",
    "sample_person_received = transcript[(transcript['event'] == 'offer received') & (transcript['offer_type'] != 'informational')]\\\n",
    "        .groupby(['person'])\\\n",
    "        .apply(lambda x: x.sample(1, replace = False, random_state=2021))"
   ]
  },
  {
   "cell_type": "code",
   "execution_count": 324,
   "metadata": {},
   "outputs": [
    {
     "data": {
      "text/plain": [
       "16928"
      ]
     },
     "execution_count": 324,
     "metadata": {},
     "output_type": "execute_result"
    }
   ],
   "source": [
    "#How many unique customers with has an 'offer received' and distinct from 'informational'\n",
    "len(transcript[(transcript['event'] == 'offer received') & (transcript['offer_type'] != 'informational')].person.unique())"
   ]
  },
  {
   "cell_type": "code",
   "execution_count": 325,
   "metadata": {},
   "outputs": [
    {
     "name": "stdout",
     "output_type": "stream",
     "text": [
      "Offers selected for model: 16928\n",
      "Offers completed from selection: 6259\n",
      "Rate: 37%\n"
     ]
    }
   ],
   "source": [
    "# Getting index from sample_person_received\n",
    "index = [x[1] for x in sample_person_received.index.values]\n",
    "# Mark this index with 1 as \"selected_for_model_offer\"\n",
    "transcript.loc[index, 'selected_for_model_offer'] = 1\n",
    "\n",
    "n_sel_offers = transcript['selected_for_model_offer'].sum()\n",
    "n_completed_offers = transcript[transcript['selected_for_model_offer']==1]['offer_is_completed'].sum()\n",
    "rate_completed = float(n_completed_offers/n_sel_offers)\n",
    "print('Offers selected for model: ' + str(n_sel_offers))\n",
    "print('Offers completed from selection: ' + str(n_completed_offers))\n",
    "print('Rate: ' + \"{:.0%}\".format(rate_completed))\n",
    "#col_inspect = ['person','days', 'offer_type', 'offer_is_completed', 'amount_when_completed','selected_for_model_offer']\n",
    "#transcript[transcript['person']=='0009655768c64bdeb2e877511632db8f'][col_inspect]"
   ]
  },
  {
   "cell_type": "markdown",
   "metadata": {},
   "source": [
    "### Train and test mark\n",
    "Since we need already transform some variable in WoE. We need to split in train and test subset previous to this process because this transformation depends on the total of events selected for training the model. So we are going to use again the `sample` function"
   ]
  },
  {
   "cell_type": "code",
   "execution_count": 326,
   "metadata": {},
   "outputs": [
    {
     "name": "stdout",
     "output_type": "stream",
     "text": [
      "Train - offer selected for model: 13542\n",
      "Train - offer completed from selection: 4998\n",
      "Train - rate: 37%\n"
     ]
    }
   ],
   "source": [
    "train_mark = transcript[transcript['selected_for_model_offer'] == 1]\\\n",
    "                    .apply(lambda x: x.sample(frac = 0.8, replace = False, random_state = 2021))\n",
    "n_sel_offers = train_mark['selected_for_model_offer'].sum()\n",
    "n_completed_offers = train_mark[train_mark['selected_for_model_offer']==1]['offer_is_completed'].sum()\n",
    "rate_completed = float(n_completed_offers/n_sel_offers)\n",
    "print('Train - offer selected for model: ' + str(n_sel_offers))\n",
    "print('Train - offer completed from selection: ' + str(n_completed_offers))\n",
    "print('Train - rate: ' + \"{:.0%}\".format(rate_completed))"
   ]
  },
  {
   "cell_type": "code",
   "execution_count": 327,
   "metadata": {},
   "outputs": [
    {
     "data": {
      "text/plain": [
       "train_test\n",
       "None     289606\n",
       "test       3386\n",
       "train     13542\n",
       "Name: selected_for_model_offer, dtype: int64"
      ]
     },
     "execution_count": 327,
     "metadata": {},
     "output_type": "execute_result"
    }
   ],
   "source": [
    "#Save Mark on transcript\n",
    "index_train = [x for x in train_mark.index.values]\n",
    "index_selected_for_model = [x for x in transcript[transcript['selected_for_model_offer']==1].index.values]\n",
    "# Mark this index with 1 as \"selected_for_model_offer\"\n",
    "transcript['train_test'] = 'None'\n",
    "transcript.loc[index_selected_for_model, 'train_test'] = 'test'\n",
    "transcript.loc[index_train, 'train_test'] = 'train'\n",
    "transcript.groupby(['train_test']).count()['selected_for_model_offer']"
   ]
  },
  {
   "cell_type": "markdown",
   "metadata": {},
   "source": [
    "## Transforming Data into WoE"
   ]
  },
  {
   "cell_type": "code",
   "execution_count": 17,
   "metadata": {},
   "outputs": [
    {
     "name": "stdout",
     "output_type": "stream",
     "text": [
      "Collecting optbinning\n",
      "  Downloading optbinning-0.9.2-py3-none-any.whl (152 kB)\n",
      "\u001b[K     |████████████████████████████████| 152 kB 7.8 MB/s eta 0:00:01\n",
      "\u001b[?25hRequirement already satisfied: matplotlib in /Applications/anaconda3/lib/python3.8/site-packages (from optbinning) (3.3.2)\n",
      "Collecting ropwr\n",
      "  Downloading ropwr-0.1.0-py3-none-any.whl (14 kB)\n",
      "Requirement already satisfied: scipy in /Applications/anaconda3/lib/python3.8/site-packages (from optbinning) (1.5.2)\n",
      "Collecting pympler\n",
      "  Downloading Pympler-0.9.tar.gz (178 kB)\n",
      "\u001b[K     |████████████████████████████████| 178 kB 8.1 MB/s eta 0:00:01\n",
      "\u001b[?25hCollecting ortools>=7.2\n",
      "  Downloading ortools-8.2.8710-cp38-cp38-macosx_10_9_x86_64.whl (12.0 MB)\n",
      "\u001b[K     |████████████████████████████████| 12.0 MB 2.7 MB/s eta 0:00:01\n",
      "\u001b[?25hRequirement already satisfied: numpy>=1.16.1 in /Applications/anaconda3/lib/python3.8/site-packages (from optbinning) (1.19.2)\n",
      "Requirement already satisfied: pandas in /Applications/anaconda3/lib/python3.8/site-packages (from optbinning) (1.1.3)\n",
      "Requirement already satisfied: scikit-learn>=0.22.0 in /Applications/anaconda3/lib/python3.8/site-packages (from optbinning) (0.23.2)\n",
      "Requirement already satisfied: cycler>=0.10 in /Applications/anaconda3/lib/python3.8/site-packages (from matplotlib->optbinning) (0.10.0)\n",
      "Requirement already satisfied: kiwisolver>=1.0.1 in /Applications/anaconda3/lib/python3.8/site-packages (from matplotlib->optbinning) (1.3.0)\n",
      "Requirement already satisfied: certifi>=2020.06.20 in /Applications/anaconda3/lib/python3.8/site-packages (from matplotlib->optbinning) (2020.6.20)\n",
      "Requirement already satisfied: python-dateutil>=2.1 in /Applications/anaconda3/lib/python3.8/site-packages (from matplotlib->optbinning) (2.8.1)\n",
      "Requirement already satisfied: pyparsing!=2.0.4,!=2.1.2,!=2.1.6,>=2.0.3 in /Applications/anaconda3/lib/python3.8/site-packages (from matplotlib->optbinning) (2.4.7)\n",
      "Requirement already satisfied: pillow>=6.2.0 in /Applications/anaconda3/lib/python3.8/site-packages (from matplotlib->optbinning) (8.0.1)\n",
      "Collecting cvxpy>=1.0\n",
      "  Downloading cvxpy-1.1.12-cp38-cp38-macosx_10_9_x86_64.whl (855 kB)\n",
      "\u001b[K     |████████████████████████████████| 855 kB 40.7 MB/s eta 0:00:01\n",
      "\u001b[?25hCollecting protobuf>=3.14.0\n",
      "  Downloading protobuf-3.15.8-cp38-cp38-macosx_10_9_x86_64.whl (1.0 MB)\n",
      "\u001b[K     |████████████████████████████████| 1.0 MB 16.8 MB/s eta 0:00:01\n",
      "\u001b[?25hCollecting absl-py>=0.11\n",
      "  Downloading absl_py-0.12.0-py3-none-any.whl (129 kB)\n",
      "\u001b[K     |████████████████████████████████| 129 kB 43.7 MB/s eta 0:00:01\n",
      "\u001b[?25hRequirement already satisfied: pytz>=2017.2 in /Applications/anaconda3/lib/python3.8/site-packages (from pandas->optbinning) (2020.1)\n",
      "Requirement already satisfied: threadpoolctl>=2.0.0 in /Applications/anaconda3/lib/python3.8/site-packages (from scikit-learn>=0.22.0->optbinning) (2.1.0)\n",
      "Requirement already satisfied: joblib>=0.11 in /Applications/anaconda3/lib/python3.8/site-packages (from scikit-learn>=0.22.0->optbinning) (0.17.0)\n",
      "Requirement already satisfied: six in /Applications/anaconda3/lib/python3.8/site-packages (from cycler>=0.10->matplotlib->optbinning) (1.15.0)\n",
      "Collecting ecos>=2\n",
      "  Downloading ecos-2.0.7.post1.tar.gz (126 kB)\n",
      "\u001b[K     |████████████████████████████████| 126 kB 70.7 MB/s eta 0:00:01\n",
      "\u001b[?25hCollecting osqp>=0.4.1\n",
      "  Downloading osqp-0.6.2.post0-cp38-cp38-macosx_10_9_x86_64.whl (164 kB)\n",
      "\u001b[K     |████████████████████████████████| 164 kB 35.9 MB/s eta 0:00:01\n",
      "\u001b[?25hCollecting scs>=1.1.6\n",
      "  Downloading scs-2.1.3.tar.gz (147 kB)\n",
      "\u001b[K     |████████████████████████████████| 147 kB 40.0 MB/s eta 0:00:01\n",
      "\u001b[?25hCollecting qdldl\n",
      "  Downloading qdldl-0.1.5.post0-cp38-cp38-macosx_10_9_x86_64.whl (87 kB)\n",
      "\u001b[K     |████████████████████████████████| 87 kB 11.1 MB/s eta 0:00:01\n",
      "\u001b[?25hBuilding wheels for collected packages: pympler, ecos, scs\n",
      "  Building wheel for pympler (setup.py) ... \u001b[?25ldone\n",
      "\u001b[?25h  Created wheel for pympler: filename=Pympler-0.9-py3-none-any.whl size=164803 sha256=129886ab029b1a0a50f56d5ba32e90fafd0c9092be7ea19e90bf44cb608d5de2\n",
      "  Stored in directory: /Users/alejandrollanos/Library/Caches/pip/wheels/24/6f/0b/da9f81234859a8741aaea3afcc6ae2daf0efb67e7ff2d3686c\n",
      "  Building wheel for ecos (setup.py) ... \u001b[?25ldone\n",
      "\u001b[?25h  Created wheel for ecos: filename=ecos-2.0.7.post1-cp38-cp38-macosx_10_9_x86_64.whl size=84206 sha256=d443651c8b40973cf98811733af312c0b774edc578d54b7a90043b597db5f955\n",
      "  Stored in directory: /Users/alejandrollanos/Library/Caches/pip/wheels/c3/c1/ce/b551b0b3a40c990e1da2ec9aecff62f7c2d43cab8766368e82\n",
      "  Building wheel for scs (setup.py) ... \u001b[?25ldone\n",
      "\u001b[?25h  Created wheel for scs: filename=scs-2.1.3-cp38-cp38-macosx_10_15_x86_64.whl size=118986 sha256=db3857893ba8a6c22fecada6a5b4d443fcc93f588710f8a2405c34ba138ab945\n",
      "  Stored in directory: /Users/alejandrollanos/Library/Caches/pip/wheels/e2/f4/e2/f46f2e79cc4536a1ace2fe1564291f12be7da3587d6ae08eca\n",
      "Successfully built pympler ecos scs\n",
      "Installing collected packages: ecos, qdldl, osqp, scs, cvxpy, ropwr, pympler, protobuf, absl-py, ortools, optbinning\n",
      "Successfully installed absl-py-0.12.0 cvxpy-1.1.12 ecos-2.0.7.post1 optbinning-0.9.2 ortools-8.2.8710 osqp-0.6.2.post0 protobuf-3.15.8 pympler-0.9 qdldl-0.1.5.post0 ropwr-0.1.0 scs-2.1.3\n"
     ]
    }
   ],
   "source": [
    "import sys\n",
    "!{sys.executable} -m pip install optbinning"
   ]
  },
  {
   "cell_type": "code",
   "execution_count": 30,
   "metadata": {},
   "outputs": [],
   "source": [
    "age_list = transcript[transcript['event'] == 'offer received'][['age', 'offer_is_completed']]['age'].values\n",
    "target = transcript[transcript['event'] == 'offer received'][['age', 'offer_is_completed']]['offer_is_completed'].values"
   ]
  },
  {
   "cell_type": "code",
   "execution_count": 31,
   "metadata": {},
   "outputs": [],
   "source": [
    "from optbinning import OptimalBinning"
   ]
  },
  {
   "cell_type": "markdown",
   "metadata": {},
   "source": [
    "## Data Processing\n",
    "\n",
    "For each variable we are going to applied an Optimal Binning through optbinning library. This method consist in get an optimal discretization for continous and categorical variable given our binary target, offer completed. At the end each  discretization is represented by a number Weight of Evidence (WoE), that show how the category of the bin is related offer completed rate.\n",
    "\n",
    "The method consist in the following steps ror each continuous or categorical variable :\n",
    "\n",
    "1. Analyze the discretization given by the optbinning library.\n",
    "2. Replaced some values if it's necessary to keep the increasing or decreasing tendency of offer completed rate. So if this condition doesn't happen, some treatment can be done over the variables like replace a value. Example: In case of age, some values are above 100 (probably incorrect data), so this values could be replaced for example by -1, to keep the tendency of offer completed rate in an ascending order. But this process can be done only for missing or default in the case of continous variable. In the case of categorical variable any kind of grouping can be done.\n",
    "3. Create WoE variable.\n",
    "\n",
    "So with this process, we can have both, WoE data an raw data for our logistic regression model and also the raw data for other kind of models like Neural Network or Decission Trees."
   ]
  },
  {
   "cell_type": "markdown",
   "metadata": {},
   "source": [
    "### Age Variable"
   ]
  },
  {
   "cell_type": "code",
   "execution_count": 515,
   "metadata": {},
   "outputs": [
    {
     "data": {
      "text/plain": [
       "([0, 1, 2, 3, 4, 5, 6, 7, 8, 9],\n",
       " [Text(0, 0, ''),\n",
       "  Text(0, 0, ''),\n",
       "  Text(0, 0, ''),\n",
       "  Text(0, 0, ''),\n",
       "  Text(0, 0, ''),\n",
       "  Text(0, 0, ''),\n",
       "  Text(0, 0, ''),\n",
       "  Text(0, 0, ''),\n",
       "  Text(0, 0, ''),\n",
       "  Text(0, 0, '')])"
      ]
     },
     "execution_count": 515,
     "metadata": {},
     "output_type": "execute_result"
    },
    {
     "data": {
      "image/png": "[encoded data removed]",
      "text/plain": [
       "<Figure size 1080x360 with 2 Axes>"
      ]
     },
     "metadata": {
      "needs_background": "light"
     },
     "output_type": "display_data"
    }
   ],
   "source": [
    "variable = 'age'\n",
    "var_list = transcript[transcript['train_test'] == 'train'][[variable, 'offer_is_completed']][variable].values\n",
    "target = transcript[transcript['train_test'] == 'train'][[variable, 'offer_is_completed']]['offer_is_completed'].values\n",
    "optb = OptimalBinning(name=variable, dtype=\"numerical\", solver=\"cp\")\n",
    "#optb = OptimalBinning(name=variable, dtype=\"numerical\", solver=\"cp\", monotonic_trend=\"ascending\")\n",
    "optb.fit(var_list, target)\n",
    "#print(optb.splits)\n",
    "#print(optb.binning_table.build())\n",
    "fig, axs = plt.subplots(1,2, figsize=(15, 5))\n",
    "axs[0].set_title('Histogram: ' + variable)\n",
    "axs[1].set_title('Offer completed rate of binning process')\n",
    "transcript['age'].hist(ax=axs[0])\n",
    "plt.bar(optb.binning_table.build()['Bin'].values[:-1], optb.binning_table.build()['Event rate'].values[:-1])\n",
    "plt.xticks(rotation=90)"
   ]
  },
  {
   "cell_type": "code",
   "execution_count": 516,
   "metadata": {
    "scrolled": true
   },
   "outputs": [
    {
     "name": "stdout",
     "output_type": "stream",
     "text": [
      "Final Group for variable: age\n",
      "                   Bin  Count  Count (%)  Event rate       WoE        IV\n",
      "0         [-inf, 8.50)   9799   0.128466    0.095418   1.45907  0.189198\n",
      "1        [8.50, 28.50)   6552   0.085897    0.255037  0.281788  0.006437\n",
      "2       [28.50, 35.50)   4184   0.054853    0.280354  0.152568  0.001239\n",
      "3       [35.50, 40.50)   4154   0.054459    0.351709 -0.178605  0.001793\n",
      "4       [40.50, 52.50)  13841   0.181457    0.355682 -0.195986  0.007212\n",
      "5       [52.50, 72.50)  27895   0.365707    0.359742 -0.213655  0.017323\n",
      "6       [72.50, 79.50)   4916   0.064449    0.362083 -0.223805  0.003355\n",
      "7         [79.50, inf)   4936   0.064712    0.370948 -0.261988  0.004644\n",
      "8              Special      0   0.000000    0.000000         0  0.000000\n",
      "9              Missing      0   0.000000    0.000000         0  0.000000\n",
      "Totals                  76277   1.000000    0.312139            0.231201\n"
     ]
    }
   ],
   "source": [
    "# Change Age values\n",
    "transcript.loc[transcript['age']>100, 'age'] = -1\n",
    "# Binning process\n",
    "var_list = transcript[transcript['event'] == 'offer received'][[variable, 'offer_is_completed']][variable].values\n",
    "target = transcript[transcript['event'] == 'offer received'][[variable, 'offer_is_completed']]['offer_is_completed'].values\n",
    "optb = OptimalBinning(name=variable, dtype=\"numerical\", solver=\"cp\", monotonic_trend=\"ascending\")\n",
    "optb.fit(var_list, target)\n",
    "cols_binning = ['Bin', 'Count', 'Count (%)', 'Event rate', 'WoE', 'IV']\n",
    "print(\"Final Group for variable: \" + variable)\n",
    "print(optb.binning_table.build()[cols_binning])"
   ]
  },
  {
   "cell_type": "code",
   "execution_count": 517,
   "metadata": {},
   "outputs": [],
   "source": [
    "# Save WoE values to transcript\n",
    "transcript['age_woe'] = optb.transform(transcript[variable], metric=\"woe\")\n",
    "#transcript[['age','age_woe']]"
   ]
  },
  {
   "cell_type": "markdown",
   "metadata": {},
   "source": [
    "### Income Variable"
   ]
  },
  {
   "cell_type": "code",
   "execution_count": 461,
   "metadata": {},
   "outputs": [
    {
     "data": {
      "text/plain": [
       "([0, 1, 2, 3, 4, 5, 6, 7, 8],\n",
       " [Text(0, 0, ''),\n",
       "  Text(0, 0, ''),\n",
       "  Text(0, 0, ''),\n",
       "  Text(0, 0, ''),\n",
       "  Text(0, 0, ''),\n",
       "  Text(0, 0, ''),\n",
       "  Text(0, 0, ''),\n",
       "  Text(0, 0, ''),\n",
       "  Text(0, 0, '')])"
      ]
     },
     "execution_count": 461,
     "metadata": {},
     "output_type": "execute_result"
    },
    {
     "data": {
      "image/png": "[encoded data removed]",
      "text/plain": [
       "<Figure size 1080x360 with 2 Axes>"
      ]
     },
     "metadata": {
      "needs_background": "light"
     },
     "output_type": "display_data"
    }
   ],
   "source": [
    "variable = 'income'\n",
    "var_list = transcript[transcript['train_test'] == 'train'][[variable, 'offer_is_completed']][variable].values\n",
    "target = transcript[transcript['train_test'] == 'train'][[variable, 'offer_is_completed']]['offer_is_completed'].values\n",
    "optb = OptimalBinning(name=variable, dtype=\"numerical\", solver=\"cp\")\n",
    "optb.fit(var_list, target)\n",
    "fig, axs = plt.subplots(1,2, figsize=(15, 5))\n",
    "axs[0].set_title('Histogram: ' + variable)\n",
    "axs[1].set_title('Offer completed rate of binning process')\n",
    "transcript[variable].hist(ax=axs[0])\n",
    "plt.bar(optb.binning_table.build()['Bin'].values[:-1], optb.binning_table.build()['Event rate'].values[:-1])\n",
    "plt.xticks(rotation=90)"
   ]
  },
  {
   "cell_type": "code",
   "execution_count": 462,
   "metadata": {},
   "outputs": [
    {
     "name": "stdout",
     "output_type": "stream",
     "text": [
      "Final Group for variable: income\n",
      "                         Bin  Count  Count (%)  Event rate       WoE        IV\n",
      "0           [-inf, 14999.50)   9776   0.128164    0.094722   1.46716  0.190410\n",
      "1       [14999.50, 43500.00)  12113   0.158803    0.238256  0.372123  0.020335\n",
      "2       [43500.00, 49500.00)   4854   0.063636    0.265554  0.227158  0.003136\n",
      "3       [49500.00, 54500.00)   6086   0.079788    0.337003 -0.113461  0.001048\n",
      "4       [54500.00, 63500.00)  10160   0.133199    0.346850 -0.157227  0.003386\n",
      "5       [63500.00, 71500.00)   8716   0.114268    0.362552 -0.225833  0.006059\n",
      "6       [71500.00, 74500.00)   4017   0.052663    0.372417 -0.268279  0.003967\n",
      "7       [74500.00, 79500.00)   3916   0.051339    0.409091 -0.422415  0.009793\n",
      "8            [79500.00, inf)  16639   0.218139    0.413186 -0.439329  0.045102\n",
      "9                    Special      0   0.000000    0.000000         0  0.000000\n",
      "10                   Missing      0   0.000000    0.000000         0  0.000000\n",
      "Totals                        76277   1.000000    0.312139            0.283236\n"
     ]
    }
   ],
   "source": [
    "# Change Age values\n",
    "transcript.loc[transcript.income.isnull(), 'income'] = -1\n",
    "var_list = transcript[transcript['event'] == 'offer received'][[variable, 'offer_is_completed']][variable].values\n",
    "target = transcript[transcript['event'] == 'offer received'][[variable, 'offer_is_completed']]['offer_is_completed'].values\n",
    "optb = OptimalBinning(name=variable, dtype=\"numerical\", solver=\"cp\", monotonic_trend=\"ascending\")\n",
    "optb.fit(var_list, target)\n",
    "cols_binning = ['Bin', 'Count', 'Count (%)', 'Event rate', 'WoE', 'IV']\n",
    "print(\"Final Group for variable: \" + variable)\n",
    "print(optb.binning_table.build()[cols_binning])"
   ]
  },
  {
   "cell_type": "code",
   "execution_count": 463,
   "metadata": {},
   "outputs": [],
   "source": [
    "# Save WoE values to transcript\n",
    "transcript['income_woe'] = optb.transform(transcript[variable], metric=\"woe\")\n",
    "#transcript[['age','age_woe']]"
   ]
  },
  {
   "cell_type": "markdown",
   "metadata": {},
   "source": [
    "### became_member_on Variable"
   ]
  },
  {
   "cell_type": "code",
   "execution_count": 464,
   "metadata": {},
   "outputs": [
    {
     "data": {
      "text/plain": [
       "([0, 1, 2, 3, 4, 5, 6],\n",
       " [Text(0, 0, ''),\n",
       "  Text(0, 0, ''),\n",
       "  Text(0, 0, ''),\n",
       "  Text(0, 0, ''),\n",
       "  Text(0, 0, ''),\n",
       "  Text(0, 0, ''),\n",
       "  Text(0, 0, '')])"
      ]
     },
     "execution_count": 464,
     "metadata": {},
     "output_type": "execute_result"
    },
    {
     "data": {
      "image/png": "[encoded data removed]",
      "text/plain": [
       "<Figure size 1080x360 with 2 Axes>"
      ]
     },
     "metadata": {
      "needs_background": "light"
     },
     "output_type": "display_data"
    }
   ],
   "source": [
    "variable = 'became_member_on'\n",
    "var_list = transcript[transcript['train_test'] == 'train'][[variable, 'offer_is_completed']][variable].values\n",
    "target = transcript[transcript['train_test'] == 'train'][[variable, 'offer_is_completed']]['offer_is_completed'].values\n",
    "#optb = OptimalBinning(name=variable, dtype=\"numerical\", solver=\"cp\")\n",
    "optb = OptimalBinning(name=variable, dtype=\"numerical\", solver=\"cp\", monotonic_trend=\"descending\")\n",
    "optb.fit(var_list, target)\n",
    "fig, axs = plt.subplots(1,2, figsize=(15, 5))\n",
    "axs[0].set_title('Histogram: ' + variable)\n",
    "axs[1].set_title('Offer completed rate of binning process')\n",
    "transcript[variable].hist(ax=axs[0])\n",
    "plt.bar(optb.binning_table.build()['Bin'].values[:-1], optb.binning_table.build()['Event rate'].values[:-1])\n",
    "plt.xticks(rotation=90)"
   ]
  },
  {
   "cell_type": "code",
   "execution_count": 465,
   "metadata": {},
   "outputs": [
    {
     "name": "stdout",
     "output_type": "stream",
     "text": [
      "Final Group for variable: became_member_on\n",
      "                               Bin  Count  Count (%)  Event rate       WoE  \\\n",
      "0              [-inf, 20170727.00)   6607   0.487890    0.475254 -0.437125   \n",
      "1       [20170727.00, 20171221.00)   3332   0.246049    0.309124  0.268028   \n",
      "2       [20171221.00, 20180203.00)    901   0.066534    0.275250  0.431957   \n",
      "3       [20180203.00, 20180413.00)   1072   0.079161    0.221082   0.72318   \n",
      "4               [20180413.00, inf)   1630   0.120366    0.210429  0.786147   \n",
      "5                          Special      0   0.000000    0.000000         0   \n",
      "6                          Missing      0   0.000000    0.000000         0   \n",
      "Totals                              13542   1.000000    0.369074             \n",
      "\n",
      "              IV  \n",
      "0       0.097247  \n",
      "1       0.016979  \n",
      "2       0.011580  \n",
      "3       0.036384  \n",
      "4       0.064468  \n",
      "5       0.000000  \n",
      "6       0.000000  \n",
      "Totals  0.226657  \n"
     ]
    }
   ],
   "source": [
    "cols_binning = ['Bin', 'Count', 'Count (%)', 'Event rate', 'WoE', 'IV']\n",
    "print(\"Final Group for variable: \" + variable)\n",
    "print(optb.binning_table.build()[cols_binning])"
   ]
  },
  {
   "cell_type": "code",
   "execution_count": 466,
   "metadata": {},
   "outputs": [],
   "source": [
    "# Save WoE values to transcript\n",
    "transcript['became_member_on_woe'] = optb.transform(transcript[variable], metric=\"woe\")\n",
    "#transcript[['became_member_on','became_member_on_woe']]"
   ]
  },
  {
   "cell_type": "markdown",
   "metadata": {},
   "source": [
    "### Gender Variable"
   ]
  },
  {
   "cell_type": "code",
   "execution_count": 467,
   "metadata": {},
   "outputs": [
    {
     "data": {
      "text/plain": [
       "([0, 1, 2, 3, 4, 5],\n",
       " [Text(0, 0, ''),\n",
       "  Text(0, 0, ''),\n",
       "  Text(0, 0, ''),\n",
       "  Text(0, 0, ''),\n",
       "  Text(0, 0, ''),\n",
       "  Text(0, 0, '')])"
      ]
     },
     "execution_count": 467,
     "metadata": {},
     "output_type": "execute_result"
    },
    {
     "data": {
      "image/png": "[encoded data removed]",
      "text/plain": [
       "<Figure size 1080x360 with 2 Axes>"
      ]
     },
     "metadata": {
      "needs_background": "light"
     },
     "output_type": "display_data"
    }
   ],
   "source": [
    "variable = 'gender'\n",
    "transcript.loc[transcript.gender.isnull(), 'gender'] = 'null'\n",
    "var_list = transcript[transcript['train_test'] == 'train'][[variable, 'offer_is_completed']][variable].values\n",
    "target = transcript[transcript['train_test'] == 'train'][[variable, 'offer_is_completed']]['offer_is_completed'].values\n",
    "optb = OptimalBinning(name=variable, dtype=\"categorical\", solver=\"mip\",cat_cutoff=0.1)\n",
    "optb.fit(var_list, target)\n",
    "fig, axs = plt.subplots(1,2, figsize=(15, 5))\n",
    "axs[0].set_title('Histogram: ' + variable)\n",
    "axs[1].set_title('Offer completed rate of binning process')\n",
    "transcript[variable].hist(ax=axs[0])\n",
    "plt.bar([str(x) for x in optb.binning_table.build()['Bin'].values[:-1]], optb.binning_table.build()['Event rate'].values[:-1])\n",
    "plt.xticks(rotation=90)"
   ]
  },
  {
   "cell_type": "code",
   "execution_count": 468,
   "metadata": {},
   "outputs": [
    {
     "name": "stdout",
     "output_type": "stream",
     "text": [
      "Final Group for variable: gender\n",
      "            Bin  Count  Count (%)  Event rate        WoE        IV\n",
      "0        [null]   1721   0.127086    0.121441    1.44266  0.194975\n",
      "1           [M]   6752   0.498597    0.365373  0.0159263  0.000126\n",
      "2           [F]   4891   0.361173    0.456348  -0.361139  0.048886\n",
      "3           [O]    178   0.013144    0.505618  -0.558664  0.004306\n",
      "4       Special      0   0.000000    0.000000          0  0.000000\n",
      "5       Missing      0   0.000000    0.000000          0  0.000000\n",
      "Totals           13542   1.000000    0.369074             0.248293\n"
     ]
    }
   ],
   "source": [
    "cols_binning = ['Bin', 'Count', 'Count (%)', 'Event rate', 'WoE', 'IV']\n",
    "print(\"Final Group for variable: \" + variable)\n",
    "print(optb.binning_table.build()[cols_binning])"
   ]
  },
  {
   "cell_type": "code",
   "execution_count": 469,
   "metadata": {},
   "outputs": [],
   "source": [
    "# Save WoE values to transcript\n",
    "transcript['gender_woe'] = optb.transform(transcript[variable], metric=\"woe\")\n",
    "#transcript.groupby(['gender','gender_woe']).count()['person']"
   ]
  },
  {
   "cell_type": "markdown",
   "metadata": {},
   "source": [
    "### Reward"
   ]
  },
  {
   "cell_type": "code",
   "execution_count": 470,
   "metadata": {},
   "outputs": [
    {
     "data": {
      "text/plain": [
       "([0, 1, 2, 3],\n",
       " [Text(0, 0, ''), Text(0, 0, ''), Text(0, 0, ''), Text(0, 0, '')])"
      ]
     },
     "execution_count": 470,
     "metadata": {},
     "output_type": "execute_result"
    },
    {
     "data": {
      "image/png": "[encoded data removed]",
      "text/plain": [
       "<Figure size 1080x360 with 2 Axes>"
      ]
     },
     "metadata": {
      "needs_background": "light"
     },
     "output_type": "display_data"
    }
   ],
   "source": [
    "variable = 'reward'\n",
    "var_list = transcript[transcript['train_test'] == 'train'][[variable, 'offer_is_completed']][variable].values\n",
    "target = transcript[transcript['train_test'] == 'train'][[variable, 'offer_is_completed']]['offer_is_completed'].values\n",
    "#optb = OptimalBinning(name=variable, dtype=\"numerical\", solver=\"cp\")\n",
    "optb = OptimalBinning(name=variable, dtype=\"numerical\", solver=\"cp\", monotonic_trend=\"descending\")\n",
    "optb.fit(var_list, target)\n",
    "fig, axs = plt.subplots(1,2, figsize=(15, 5))\n",
    "axs[0].set_title('Histogram: ' + variable)\n",
    "axs[1].set_title('Offer completed rate of binning process')\n",
    "transcript[variable].hist(ax=axs[0])\n",
    "plt.bar(optb.binning_table.build()['Bin'].values[:-1], optb.binning_table.build()['Event rate'].values[:-1])\n",
    "plt.xticks(rotation=90)"
   ]
  },
  {
   "cell_type": "code",
   "execution_count": 471,
   "metadata": {},
   "outputs": [
    {
     "name": "stdout",
     "output_type": "stream",
     "text": [
      "Final Group for variable: reward\n",
      "                 Bin  Count  Count (%)  Event rate       WoE        IV\n",
      "0       [-inf, 4.00)   5033   0.371659    0.461752 -0.382902  0.056639\n",
      "1        [4.00, inf)   8509   0.628341    0.314255  0.244107  0.036109\n",
      "2            Special      0   0.000000    0.000000         0  0.000000\n",
      "3            Missing      0   0.000000    0.000000         0  0.000000\n",
      "Totals                13542   1.000000    0.369074            0.092748\n"
     ]
    }
   ],
   "source": [
    "cols_binning = ['Bin', 'Count', 'Count (%)', 'Event rate', 'WoE', 'IV']\n",
    "print(\"Final Group for variable: \" + variable)\n",
    "print(optb.binning_table.build()[cols_binning])"
   ]
  },
  {
   "cell_type": "code",
   "execution_count": 472,
   "metadata": {},
   "outputs": [],
   "source": [
    "# Save WoE values to transcript\n",
    "transcript['reward_woe'] = optb.transform(transcript[variable], metric=\"woe\")"
   ]
  },
  {
   "cell_type": "markdown",
   "metadata": {},
   "source": [
    "### Channels"
   ]
  },
  {
   "cell_type": "code",
   "execution_count": 473,
   "metadata": {},
   "outputs": [
    {
     "data": {
      "text/plain": [
       "([0, 1, 2, 3, 4, 5],\n",
       " [Text(0, 0, ''),\n",
       "  Text(0, 0, ''),\n",
       "  Text(0, 0, ''),\n",
       "  Text(0, 0, ''),\n",
       "  Text(0, 0, ''),\n",
       "  Text(0, 0, '')])"
      ]
     },
     "execution_count": 473,
     "metadata": {},
     "output_type": "execute_result"
    },
    {
     "data": {
      "image/png": "[encoded data removed]",
      "text/plain": [
       "<Figure size 1080x360 with 2 Axes>"
      ]
     },
     "metadata": {
      "needs_background": "light"
     },
     "output_type": "display_data"
    }
   ],
   "source": [
    "variable = 'channels'\n",
    "transcript.loc[transcript.gender.isnull(), 'gender'] = 'null'\n",
    "var_list = transcript[transcript['train_test'] == 'train'][[variable, 'offer_is_completed']][variable].values\n",
    "target = transcript[transcript['train_test'] == 'train'][[variable, 'offer_is_completed']]['offer_is_completed'].values\n",
    "optb = OptimalBinning(name=variable, dtype=\"categorical\", solver=\"mip\",cat_cutoff=0.1)\n",
    "optb.fit(var_list, target)\n",
    "fig, axs = plt.subplots(1,2, figsize=(15, 5))\n",
    "axs[0].set_title('Histogram: ' + variable)\n",
    "axs[1].set_title('Offer completed rate of binning process')\n",
    "transcript[variable].hist(ax=axs[0])\n",
    "plt.bar([str(x) for x in optb.binning_table.build()['Bin'].values[:-1]], optb.binning_table.build()['Event rate'].values[:-1])\n",
    "plt.xticks(rotation=90)"
   ]
  },
  {
   "cell_type": "code",
   "execution_count": 474,
   "metadata": {},
   "outputs": [
    {
     "name": "stdout",
     "output_type": "stream",
     "text": [
      "Final Group for variable: channels\n",
      "                                           Bin  Count  Count (%)  Event rate  \\\n",
      "0                           [['web', 'email']]   1698   0.125388    0.156655   \n",
      "1                 [['web', 'email', 'mobile']]   3379   0.249520    0.264871   \n",
      "2              [['email', 'mobile', 'social']]   1648   0.121695    0.358010   \n",
      "3       [['web', 'email', 'mobile', 'social']]   6817   0.503397    0.476309   \n",
      "4                                      Special      0   0.000000    0.000000   \n",
      "5                                      Missing      0   0.000000    0.000000   \n",
      "Totals                                          13542   1.000000    0.369074   \n",
      "\n",
      "              WoE        IV  \n",
      "0         1.14714  0.131212  \n",
      "1         0.48461  0.054111  \n",
      "2       0.0478216  0.000277  \n",
      "3       -0.441357  0.102317  \n",
      "4               0  0.000000  \n",
      "5               0  0.000000  \n",
      "Totals             0.287916  \n"
     ]
    }
   ],
   "source": [
    "cols_binning = ['Bin', 'Count', 'Count (%)', 'Event rate', 'WoE', 'IV']\n",
    "print(\"Final Group for variable: \" + variable)\n",
    "print(optb.binning_table.build()[cols_binning])"
   ]
  },
  {
   "cell_type": "code",
   "execution_count": 475,
   "metadata": {},
   "outputs": [],
   "source": [
    "transcript['channels_woe'] = optb.transform(transcript[variable], metric=\"woe\")"
   ]
  },
  {
   "cell_type": "markdown",
   "metadata": {},
   "source": [
    "### Difficulty"
   ]
  },
  {
   "cell_type": "code",
   "execution_count": 476,
   "metadata": {},
   "outputs": [
    {
     "data": {
      "text/plain": [
       "([0, 1, 2, 3, 4],\n",
       " [Text(0, 0, ''),\n",
       "  Text(0, 0, ''),\n",
       "  Text(0, 0, ''),\n",
       "  Text(0, 0, ''),\n",
       "  Text(0, 0, '')])"
      ]
     },
     "execution_count": 476,
     "metadata": {},
     "output_type": "execute_result"
    },
    {
     "data": {
      "image/png": "[encoded data removed]",
      "text/plain": [
       "<Figure size 1080x360 with 2 Axes>"
      ]
     },
     "metadata": {
      "needs_background": "light"
     },
     "output_type": "display_data"
    }
   ],
   "source": [
    "variable = 'difficulty'\n",
    "var_list = transcript[transcript['train_test'] == 'train'][[variable, 'offer_is_completed']][variable].values\n",
    "target = transcript[transcript['train_test'] == 'train'][[variable, 'offer_is_completed']]['offer_is_completed'].values\n",
    "#optb = OptimalBinning(name=variable, dtype=\"numerical\", solver=\"cp\")\n",
    "optb = OptimalBinning(name=variable, dtype=\"numerical\", solver=\"cp\", monotonic_trend=\"descending\")\n",
    "optb.fit(var_list, target)\n",
    "fig, axs = plt.subplots(1,2, figsize=(15, 5))\n",
    "axs[0].set_title('Histogram: ' + variable)\n",
    "axs[1].set_title('Offer completed rate of binning process')\n",
    "transcript[variable].hist(ax=axs[0])\n",
    "plt.bar(optb.binning_table.build()['Bin'].values[:-1], optb.binning_table.build()['Event rate'].values[:-1])\n",
    "plt.xticks(rotation=90)"
   ]
  },
  {
   "cell_type": "code",
   "execution_count": 477,
   "metadata": {},
   "outputs": [
    {
     "name": "stdout",
     "output_type": "stream",
     "text": [
      "Final Group for variable: difficulty\n",
      "                  Bin  Count  Count (%)  Event rate        WoE        IV\n",
      "0        [-inf, 8.50)   5168   0.381628    0.411958  -0.180315  0.012673\n",
      "1       [8.50, 15.00)   6676   0.492985    0.389904 -0.0884762  0.003902\n",
      "2        [15.00, inf)   1698   0.125388    0.156655    1.14714  0.131212\n",
      "3             Special      0   0.000000    0.000000          0  0.000000\n",
      "4             Missing      0   0.000000    0.000000          0  0.000000\n",
      "Totals                 13542   1.000000    0.369074             0.147787\n"
     ]
    }
   ],
   "source": [
    "cols_binning = ['Bin', 'Count', 'Count (%)', 'Event rate', 'WoE', 'IV']\n",
    "print(\"Final Group for variable: \" + variable)\n",
    "print(optb.binning_table.build()[cols_binning])"
   ]
  },
  {
   "cell_type": "code",
   "execution_count": 478,
   "metadata": {},
   "outputs": [],
   "source": [
    "# Save WoE values to transcript\n",
    "transcript['difficulty_woe'] = optb.transform(transcript[variable], metric=\"woe\")"
   ]
  },
  {
   "cell_type": "markdown",
   "metadata": {},
   "source": [
    "### Duration"
   ]
  },
  {
   "cell_type": "code",
   "execution_count": 486,
   "metadata": {},
   "outputs": [
    {
     "data": {
      "text/plain": [
       "([0, 1, 2, 3],\n",
       " [Text(0, 0, ''), Text(0, 0, ''), Text(0, 0, ''), Text(0, 0, '')])"
      ]
     },
     "execution_count": 486,
     "metadata": {},
     "output_type": "execute_result"
    },
    {
     "data": {
      "image/png": "[encoded data removed]",
      "text/plain": [
       "<Figure size 1080x360 with 2 Axes>"
      ]
     },
     "metadata": {
      "needs_background": "light"
     },
     "output_type": "display_data"
    }
   ],
   "source": [
    "variable = 'duration'\n",
    "var_list = transcript[transcript['train_test'] == 'train'][[variable, 'offer_is_completed']][variable].values\n",
    "target = transcript[transcript['train_test'] == 'train'][[variable, 'offer_is_completed']]['offer_is_completed'].values\n",
    "#optb = OptimalBinning(name=variable, dtype=\"numerical\", solver=\"cp\")\n",
    "optb = OptimalBinning(name=variable, dtype=\"numerical\", solver=\"cp\", monotonic_trend=\"descending\")\n",
    "optb.fit(var_list, target)\n",
    "fig, axs = plt.subplots(1,2, figsize=(15, 5))\n",
    "axs[0].set_title('Histogram: ' + variable)\n",
    "axs[1].set_title('Offer completed rate of binning process')\n",
    "transcript[variable].hist(ax=axs[0])\n",
    "plt.bar(optb.binning_table.build()['Bin'].values[:-1], optb.binning_table.build()['Event rate'].values[:-1])\n",
    "plt.xticks(rotation=90)"
   ]
  },
  {
   "cell_type": "code",
   "execution_count": 487,
   "metadata": {},
   "outputs": [
    {
     "name": "stdout",
     "output_type": "stream",
     "text": [
      "Final Group for variable: duration\n",
      "                 Bin  Count  Count (%)  Event rate        WoE        IV\n",
      "0       [-inf, 6.00)   3422   0.252695    0.402981  -0.143131  0.005267\n",
      "1        [6.00, inf)  10120   0.747305    0.357609  0.0495668  0.001824\n",
      "2            Special      0   0.000000    0.000000          0  0.000000\n",
      "3            Missing      0   0.000000    0.000000          0  0.000000\n",
      "Totals                13542   1.000000    0.369074             0.007090\n"
     ]
    }
   ],
   "source": [
    "cols_binning = ['Bin', 'Count', 'Count (%)', 'Event rate', 'WoE', 'IV']\n",
    "print(\"Final Group for variable: \" + variable)\n",
    "print(optb.binning_table.build()[cols_binning])"
   ]
  },
  {
   "cell_type": "code",
   "execution_count": 489,
   "metadata": {},
   "outputs": [],
   "source": [
    "#print(variable)\n",
    "transcript['duration_woe'] = optb.transform(transcript[variable], metric=\"woe\")"
   ]
  },
  {
   "cell_type": "markdown",
   "metadata": {},
   "source": [
    "In this case the IV is below to 0.02 so the literature said that is not useful for prediction."
   ]
  },
  {
   "cell_type": "markdown",
   "metadata": {},
   "source": [
    "### Offer Type"
   ]
  },
  {
   "cell_type": "code",
   "execution_count": 490,
   "metadata": {},
   "outputs": [
    {
     "data": {
      "text/plain": [
       "([0, 1, 2, 3],\n",
       " [Text(0, 0, ''), Text(0, 0, ''), Text(0, 0, ''), Text(0, 0, '')])"
      ]
     },
     "execution_count": 490,
     "metadata": {},
     "output_type": "execute_result"
    },
    {
     "data": {
      "image/png": "[encoded data removed]",
      "text/plain": [
       "<Figure size 1080x360 with 2 Axes>"
      ]
     },
     "metadata": {
      "needs_background": "light"
     },
     "output_type": "display_data"
    }
   ],
   "source": [
    "variable = 'offer_type'\n",
    "transcript.loc[transcript.gender.isnull(), 'gender'] = 'null'\n",
    "var_list = transcript[transcript['train_test'] == 'train'][[variable, 'offer_is_completed']][variable].values\n",
    "target = transcript[transcript['train_test'] == 'train'][[variable, 'offer_is_completed']]['offer_is_completed'].values\n",
    "optb = OptimalBinning(name=variable, dtype=\"categorical\", solver=\"mip\",cat_cutoff=0.1)\n",
    "optb.fit(var_list, target)\n",
    "fig, axs = plt.subplots(1,2, figsize=(15, 5))\n",
    "axs[0].set_title('Histogram: ' + variable)\n",
    "axs[1].set_title('Offer completed rate of binning process')\n",
    "transcript[variable].hist(ax=axs[0])\n",
    "plt.bar([str(x) for x in optb.binning_table.build()['Bin'].values[:-1]], optb.binning_table.build()['Event rate'].values[:-1])\n",
    "plt.xticks(rotation=90)"
   ]
  },
  {
   "cell_type": "code",
   "execution_count": 491,
   "metadata": {},
   "outputs": [
    {
     "name": "stdout",
     "output_type": "stream",
     "text": [
      "Final Group for variable: offer_type\n",
      "               Bin  Count  Count (%)  Event rate        WoE        IV\n",
      "0           [bogo]   6811   0.502954    0.353546  0.0672981  0.002257\n",
      "1       [discount]   6731   0.497046    0.384787  -0.066912  0.002244\n",
      "2          Special      0   0.000000    0.000000          0  0.000000\n",
      "3          Missing      0   0.000000    0.000000          0  0.000000\n",
      "Totals              13542   1.000000    0.369074             0.004501\n"
     ]
    }
   ],
   "source": [
    "cols_binning = ['Bin', 'Count', 'Count (%)', 'Event rate', 'WoE', 'IV']\n",
    "print(\"Final Group for variable: \" + variable)\n",
    "print(optb.binning_table.build()[cols_binning])"
   ]
  },
  {
   "cell_type": "code",
   "execution_count": 492,
   "metadata": {},
   "outputs": [],
   "source": [
    "transcript['offer_type_woe'] = optb.transform(transcript[variable], metric=\"woe\")"
   ]
  },
  {
   "cell_type": "markdown",
   "metadata": {},
   "source": [
    "In this case the IV is below to 0.02 so the literature said that is not useful for prediction."
   ]
  },
  {
   "cell_type": "code",
   "execution_count": 493,
   "metadata": {},
   "outputs": [
    {
     "data": {
      "text/plain": [
       "Index(['Unnamed: 0', 'person', 'event', 'time', 'days', 'offer_id', 'amount',\n",
       "       'gender', 'age', 'became_member_on', 'income', 'reward', 'channels',\n",
       "       'difficulty', 'duration', 'offer_type', 'sum_amount',\n",
       "       'offer_index_received', 'offer_is_completed', 'amount_when_completed',\n",
       "       'selected_for_model_offer', 'train_test', 'age_woe', 'income_woe',\n",
       "       'became_member_on_woe', 'gender_woe', 'reward_woe', 'channels_woe',\n",
       "       'difficulty_woe', 'duration_woe', 'offer_type_woe'],\n",
       "      dtype='object')"
      ]
     },
     "execution_count": 493,
     "metadata": {},
     "output_type": "execute_result"
    }
   ],
   "source": [
    "transcript.columns"
   ]
  },
  {
   "cell_type": "markdown",
   "metadata": {},
   "source": [
    "At this point we finished with a total of 5 inputs variable for our logistic regression model."
   ]
  },
  {
   "cell_type": "code",
   "execution_count": 494,
   "metadata": {},
   "outputs": [],
   "source": [
    "transcript.to_csv('data/full_table_with_woe.csv')   "
   ]
  },
  {
   "cell_type": "markdown",
   "metadata": {},
   "source": [
    "## Creating variables by Offer Type - BOGO"
   ]
  },
  {
   "cell_type": "code",
   "execution_count": 518,
   "metadata": {},
   "outputs": [],
   "source": [
    "condition = (transcript['train_test'] == 'train') & (transcript['offer_type'] == 'bogo')\n",
    "offer = 'bogo'\n",
    "#condition = (transcript['train_test'] == 'train') & (transcript['offer_type'] == 'discount')\n",
    "#offer = 'discount'"
   ]
  },
  {
   "cell_type": "markdown",
   "metadata": {},
   "source": [
    "### Age"
   ]
  },
  {
   "cell_type": "code",
   "execution_count": 519,
   "metadata": {
    "scrolled": false
   },
   "outputs": [
    {
     "name": "stdout",
     "output_type": "stream",
     "text": [
      "                   Bin  Count  Count (%)  Non-event  Event  Event rate  \\\n",
      "0        [-inf, 19.50)    939   0.137865        837    102    0.108626   \n",
      "1       [19.50, 34.50)    796   0.116870        577    219    0.275126   \n",
      "2       [34.50, 40.50)    393   0.057701        243    150    0.381679   \n",
      "3       [40.50, 74.50)   3966   0.582293       2342   1624    0.409481   \n",
      "4         [74.50, inf)    717   0.105271        404    313    0.436541   \n",
      "5              Special      0   0.000000          0      0    0.000000   \n",
      "6              Missing      0   0.000000          0      0    0.000000   \n",
      "Totals                   6811   1.000000       4403   2408    0.353546   \n",
      "\n",
      "             WoE        IV        JS  \n",
      "0        1.50136  0.221809  0.025384  \n",
      "1       0.365281  0.014648  0.001821  \n",
      "2      -0.121063  0.000860  0.000107  \n",
      "3      -0.237377  0.033828  0.004219  \n",
      "4      -0.348278  0.013314  0.001656  \n",
      "5              0  0.000000  0.000000  \n",
      "6              0  0.000000  0.000000  \n",
      "Totals            0.284459  0.033187  \n"
     ]
    }
   ],
   "source": [
    "variable = 'age'\n",
    "var_list = transcript[condition][[variable, 'offer_is_completed']][variable].values\n",
    "target = transcript[condition][[variable, 'offer_is_completed']]['offer_is_completed'].values\n",
    "#optb = OptimalBinning(name=variable, dtype=\"numerical\", solver=\"cp\")\n",
    "optb = OptimalBinning(name=variable, dtype=\"numerical\", solver=\"cp\", monotonic_trend=\"ascending\")\n",
    "optb.fit(var_list, target)\n",
    "print(optb.binning_table.build())"
   ]
  },
  {
   "cell_type": "code",
   "execution_count": 520,
   "metadata": {},
   "outputs": [],
   "source": [
    "name = variable+'_'+offer+'_woe'\n",
    "transcript[name] = optb.transform(transcript[variable], metric=\"woe\")"
   ]
  },
  {
   "cell_type": "markdown",
   "metadata": {},
   "source": [
    "### Income"
   ]
  },
  {
   "cell_type": "code",
   "execution_count": 523,
   "metadata": {},
   "outputs": [
    {
     "name": "stdout",
     "output_type": "stream",
     "text": [
      "                         Bin  Count  Count (%)  Non-event  Event  Event rate  \\\n",
      "0           [-inf, 14999.50)    853   0.125239        767     86    0.100821   \n",
      "1       [14999.50, 34500.00)    390   0.057260        304     86    0.220513   \n",
      "2       [34500.00, 41500.00)    561   0.082367        428    133    0.237077   \n",
      "3       [41500.00, 48500.00)    496   0.072823        362    134    0.270161   \n",
      "4       [48500.00, 55500.00)    693   0.101747        429    264    0.380952   \n",
      "5       [55500.00, 63500.00)    817   0.119953        491    326    0.399021   \n",
      "6       [63500.00, 71500.00)    774   0.113640        446    328    0.423773   \n",
      "7       [71500.00, 76500.00)    536   0.078696        301    235    0.438433   \n",
      "8            [76500.00, inf)   1691   0.248275        875    816    0.482555   \n",
      "9                    Special      0   0.000000          0      0    0.000000   \n",
      "10                   Missing      0   0.000000          0      0    0.000000   \n",
      "Totals                         6811   1.000000       4403   2408    0.353546   \n",
      "\n",
      "             WoE        IV        JS  \n",
      "0        1.58465  0.219450  0.024879  \n",
      "1       0.659191  0.021971  0.002698  \n",
      "2       0.565284  0.023727  0.002927  \n",
      "3       0.390315  0.010370  0.001288  \n",
      "4      -0.117982  0.001439  0.000180  \n",
      "5      -0.193943  0.004629  0.000578  \n",
      "6      -0.296184  0.010342  0.001288  \n",
      "7      -0.355965  0.010404  0.001294  \n",
      "8       -0.53368  0.074791  0.009240  \n",
      "9              0  0.000000  0.000000  \n",
      "10             0  0.000000  0.000000  \n",
      "Totals            0.377125  0.044371  \n"
     ]
    }
   ],
   "source": [
    "variable = 'income'\n",
    "var_list = transcript[condition][[variable, 'offer_is_completed']][variable].values\n",
    "target = transcript[condition][[variable, 'offer_is_completed']]['offer_is_completed'].values\n",
    "#optb = OptimalBinning(name=variable, dtype=\"numerical\", solver=\"cp\")\n",
    "optb = OptimalBinning(name=variable, dtype=\"numerical\", solver=\"cp\", monotonic_trend=\"ascending\")\n",
    "optb.fit(var_list, target)\n",
    "print(optb.binning_table.build())"
   ]
  },
  {
   "cell_type": "code",
   "execution_count": 524,
   "metadata": {},
   "outputs": [],
   "source": [
    "name = variable+'_'+offer+'_woe'\n",
    "transcript[name] = optb.transform(transcript[variable], metric=\"woe\")"
   ]
  },
  {
   "cell_type": "markdown",
   "metadata": {},
   "source": [
    "### became_member_on"
   ]
  },
  {
   "cell_type": "code",
   "execution_count": 529,
   "metadata": {},
   "outputs": [
    {
     "name": "stdout",
     "output_type": "stream",
     "text": [
      "                               Bin  Count  Count (%)  Non-event  Event  \\\n",
      "0              [-inf, 20170727.00)   3335   0.489649       1826   1509   \n",
      "1       [20170727.00, 20171105.00)   1141   0.167523        783    358   \n",
      "2       [20171105.00, 20171221.00)    544   0.079871        384    160   \n",
      "3       [20171221.00, 20180203.00)    456   0.066951        349    107   \n",
      "4               [20180203.00, inf)   1335   0.196006       1061    274   \n",
      "5                          Special      0   0.000000          0      0   \n",
      "6                          Missing      0   0.000000          0      0   \n",
      "Totals                               6811   1.000000       4403   2408   \n",
      "\n",
      "        Event rate       WoE        IV        JS  \n",
      "0         0.452474 -0.412809  0.087492  0.010860  \n",
      "1         0.313760   0.17911  0.005223  0.000652  \n",
      "2         0.294118  0.271979  0.005648  0.000704  \n",
      "3         0.234649  0.578753  0.020157  0.002485  \n",
      "4         0.205243  0.750349  0.095433  0.011657  \n",
      "5         0.000000         0  0.000000  0.000000  \n",
      "6         0.000000         0  0.000000  0.000000  \n",
      "Totals    0.353546            0.213954  0.026357  \n"
     ]
    }
   ],
   "source": [
    "variable = 'became_member_on'\n",
    "var_list = transcript[condition][[variable, 'offer_is_completed']][variable].values\n",
    "target = transcript[condition][[variable, 'offer_is_completed']]['offer_is_completed'].values\n",
    "#optb = OptimalBinning(name=variable, dtype=\"numerical\", solver=\"cp\")\n",
    "optb = OptimalBinning(name=variable, dtype=\"numerical\", solver=\"cp\", monotonic_trend=\"descending\")\n",
    "optb.fit(var_list, target)\n",
    "print(optb.binning_table.build())"
   ]
  },
  {
   "cell_type": "code",
   "execution_count": 530,
   "metadata": {},
   "outputs": [],
   "source": [
    "name = variable+'_'+offer+'_woe'\n",
    "transcript[name] = optb.transform(transcript[variable], metric=\"woe\")"
   ]
  },
  {
   "cell_type": "markdown",
   "metadata": {},
   "source": [
    "### Gender"
   ]
  },
  {
   "cell_type": "code",
   "execution_count": 533,
   "metadata": {},
   "outputs": [
    {
     "name": "stdout",
     "output_type": "stream",
     "text": [
      "            Bin  Count  Count (%)  Non-event  Event  Event rate        WoE  \\\n",
      "0        [null]    853   0.125239        767     86    0.100821    1.58465   \n",
      "1           [M]   3434   0.504184       2282   1152    0.335469  0.0800631   \n",
      "2           [F]   2437   0.357804       1312   1125    0.461633   -0.44972   \n",
      "3           [O]     87   0.012773         42     45    0.517241  -0.672482   \n",
      "4       Special      0   0.000000          0      0    0.000000          0   \n",
      "5       Missing      0   0.000000          0      0    0.000000          0   \n",
      "Totals            6811   1.000000       4403   2408    0.353546              \n",
      "\n",
      "              IV        JS  \n",
      "0       0.219450  0.024879  \n",
      "1       0.003193  0.000399  \n",
      "2       0.076099  0.009433  \n",
      "3       0.006152  0.000755  \n",
      "4       0.000000  0.000000  \n",
      "5       0.000000  0.000000  \n",
      "Totals  0.304894  0.035466  \n"
     ]
    }
   ],
   "source": [
    "variable = 'gender'\n",
    "var_list = transcript[condition][[variable, 'offer_is_completed']][variable].values\n",
    "target = transcript[condition][[variable, 'offer_is_completed']]['offer_is_completed'].values\n",
    "#optb = OptimalBinning(name=variable, dtype=\"numerical\", solver=\"cp\")\n",
    "#optb = OptimalBinning(name=variable, dtype=\"numerical\", solver=\"cp\", monotonic_trend=\"descending\")\n",
    "optb = OptimalBinning(name=variable, dtype=\"categorical\", solver=\"mip\",cat_cutoff=0.1)\n",
    "optb.fit(var_list, target)\n",
    "print(optb.binning_table.build())"
   ]
  },
  {
   "cell_type": "code",
   "execution_count": 534,
   "metadata": {},
   "outputs": [],
   "source": [
    "name = variable+'_'+offer+'_woe'\n",
    "transcript[name] = optb.transform(transcript[variable], metric=\"woe\")"
   ]
  },
  {
   "cell_type": "markdown",
   "metadata": {},
   "source": [
    "### Rewards"
   ]
  },
  {
   "cell_type": "code",
   "execution_count": 537,
   "metadata": {},
   "outputs": [
    {
     "name": "stdout",
     "output_type": "stream",
     "text": [
      "                 Bin  Count  Count (%)  Non-event  Event  Event rate  \\\n",
      "0       [-inf, 7.50)   3430   0.503597       2228   1202    0.350437   \n",
      "1        [7.50, inf)   3381   0.496403       2175   1206    0.356699   \n",
      "2            Special      0   0.000000          0      0    0.000000   \n",
      "3            Missing      0   0.000000          0      0    0.000000   \n",
      "Totals                 6811   1.000000       4403   2408    0.353546   \n",
      "\n",
      "              WoE        IV        JS  \n",
      "0       0.0136279  0.000093  0.000012  \n",
      "1        -0.01377  0.000094  0.000012  \n",
      "2               0  0.000000  0.000000  \n",
      "3               0  0.000000  0.000000  \n",
      "Totals             0.000188  0.000023  \n"
     ]
    }
   ],
   "source": [
    "variable = 'reward'\n",
    "var_list = transcript[condition][[variable, 'offer_is_completed']][variable].values\n",
    "target = transcript[condition][[variable, 'offer_is_completed']]['offer_is_completed'].values\n",
    "optb = OptimalBinning(name=variable, dtype=\"numerical\", solver=\"cp\")\n",
    "#optb = OptimalBinning(name=variable, dtype=\"numerical\", solver=\"cp\", monotonic_trend=\"descending\")\n",
    "#optb = OptimalBinning(name=variable, dtype=\"categorical\", solver=\"mip\",cat_cutoff=0.1)\n",
    "optb.fit(var_list, target)\n",
    "print(optb.binning_table.build())"
   ]
  },
  {
   "cell_type": "markdown",
   "metadata": {},
   "source": [
    "### Channels"
   ]
  },
  {
   "cell_type": "code",
   "execution_count": 538,
   "metadata": {},
   "outputs": [
    {
     "name": "stdout",
     "output_type": "stream",
     "text": [
      "                                           Bin  Count  Count (%)  Non-event  \\\n",
      "0                 [['web', 'email', 'mobile']]   1741   0.255616       1302   \n",
      "1              [['email', 'mobile', 'social']]   1648   0.241962       1058   \n",
      "2       [['web', 'email', 'mobile', 'social']]   3422   0.502423       2043   \n",
      "3                                      Special      0   0.000000          0   \n",
      "4                                      Missing      0   0.000000          0   \n",
      "Totals                                           6811   1.000000       4403   \n",
      "\n",
      "        Event  Event rate        WoE        IV        JS  \n",
      "0         439    0.252154   0.483668  0.054847  0.006790  \n",
      "1         590    0.358010 -0.0194765  0.000092  0.000012  \n",
      "2        1379    0.402981  -0.210429  0.022868  0.002853  \n",
      "3           0    0.000000          0  0.000000  0.000000  \n",
      "4           0    0.000000          0  0.000000  0.000000  \n",
      "Totals   2408    0.353546             0.077807  0.009655  \n"
     ]
    }
   ],
   "source": [
    "variable = 'channels'\n",
    "var_list = transcript[condition][[variable, 'offer_is_completed']][variable].values\n",
    "target = transcript[condition][[variable, 'offer_is_completed']]['offer_is_completed'].values\n",
    "#optb = OptimalBinning(name=variable, dtype=\"numerical\", solver=\"cp\")\n",
    "#optb = OptimalBinning(name=variable, dtype=\"numerical\", solver=\"cp\", monotonic_trend=\"descending\")\n",
    "optb = OptimalBinning(name=variable, dtype=\"categorical\", solver=\"mip\",cat_cutoff=0.1)\n",
    "optb.fit(var_list, target)\n",
    "print(optb.binning_table.build())"
   ]
  },
  {
   "cell_type": "code",
   "execution_count": 539,
   "metadata": {},
   "outputs": [],
   "source": [
    "name = variable+'_'+offer+'_woe'\n",
    "transcript[name] = optb.transform(transcript[variable], metric=\"woe\")"
   ]
  },
  {
   "cell_type": "markdown",
   "metadata": {},
   "source": [
    "### Difficulty"
   ]
  },
  {
   "cell_type": "code",
   "execution_count": 540,
   "metadata": {},
   "outputs": [
    {
     "name": "stdout",
     "output_type": "stream",
     "text": [
      "                 Bin  Count  Count (%)  Non-event  Event  Event rate  \\\n",
      "0       [-inf, 7.50)   3430   0.503597       2228   1202    0.350437   \n",
      "1        [7.50, inf)   3381   0.496403       2175   1206    0.356699   \n",
      "2            Special      0   0.000000          0      0    0.000000   \n",
      "3            Missing      0   0.000000          0      0    0.000000   \n",
      "Totals                 6811   1.000000       4403   2408    0.353546   \n",
      "\n",
      "              WoE        IV        JS  \n",
      "0       0.0136279  0.000093  0.000012  \n",
      "1        -0.01377  0.000094  0.000012  \n",
      "2               0  0.000000  0.000000  \n",
      "3               0  0.000000  0.000000  \n",
      "Totals             0.000188  0.000023  \n"
     ]
    }
   ],
   "source": [
    "variable = 'difficulty'\n",
    "var_list = transcript[condition][[variable, 'offer_is_completed']][variable].values\n",
    "target = transcript[condition][[variable, 'offer_is_completed']]['offer_is_completed'].values\n",
    "optb = OptimalBinning(name=variable, dtype=\"numerical\", solver=\"cp\")\n",
    "#optb = OptimalBinning(name=variable, dtype=\"numerical\", solver=\"cp\", monotonic_trend=\"descending\")\n",
    "#optb = OptimalBinning(name=variable, dtype=\"categorical\", solver=\"mip\",cat_cutoff=0.1)\n",
    "optb.fit(var_list, target)\n",
    "print(optb.binning_table.build())"
   ]
  },
  {
   "cell_type": "markdown",
   "metadata": {},
   "source": [
    "### Duration"
   ]
  },
  {
   "cell_type": "code",
   "execution_count": 541,
   "metadata": {},
   "outputs": [
    {
     "name": "stdout",
     "output_type": "stream",
     "text": [
      "                 Bin  Count  Count (%)  Non-event  Event  Event rate  \\\n",
      "0       [-inf, 6.00)   3422   0.502423       2043   1379    0.402981   \n",
      "1        [6.00, inf)   3389   0.497577       2360   1029    0.303629   \n",
      "2            Special      0   0.000000          0      0    0.000000   \n",
      "3            Missing      0   0.000000          0      0    0.000000   \n",
      "Totals                 6811   1.000000       4403   2408    0.353546   \n",
      "\n",
      "             WoE        IV        JS  \n",
      "0      -0.210429  0.022868  0.002853  \n",
      "1       0.226585  0.024624  0.003071  \n",
      "2              0  0.000000  0.000000  \n",
      "3              0  0.000000  0.000000  \n",
      "Totals            0.047491  0.005925  \n"
     ]
    }
   ],
   "source": [
    "variable = 'duration'\n",
    "var_list = transcript[condition][[variable, 'offer_is_completed']][variable].values\n",
    "target = transcript[condition][[variable, 'offer_is_completed']]['offer_is_completed'].values\n",
    "optb = OptimalBinning(name=variable, dtype=\"numerical\", solver=\"cp\")\n",
    "#optb = OptimalBinning(name=variable, dtype=\"numerical\", solver=\"cp\", monotonic_trend=\"descending\")\n",
    "#optb = OptimalBinning(name=variable, dtype=\"categorical\", solver=\"mip\",cat_cutoff=0.1)\n",
    "optb.fit(var_list, target)\n",
    "print(optb.binning_table.build())"
   ]
  },
  {
   "cell_type": "code",
   "execution_count": 542,
   "metadata": {},
   "outputs": [],
   "source": [
    "name = variable+'_'+offer+'_woe'\n",
    "transcript[name] = optb.transform(transcript[variable], metric=\"woe\")"
   ]
  },
  {
   "cell_type": "markdown",
   "metadata": {},
   "source": [
    "## Creating variables by Offer Type - Discount"
   ]
  },
  {
   "cell_type": "code",
   "execution_count": 558,
   "metadata": {},
   "outputs": [],
   "source": [
    "condition = (transcript['train_test'] == 'train') & (transcript['offer_type'] == 'discount')\n",
    "offer = 'discount'"
   ]
  },
  {
   "cell_type": "markdown",
   "metadata": {},
   "source": [
    "### Age"
   ]
  },
  {
   "cell_type": "code",
   "execution_count": 559,
   "metadata": {
    "scrolled": false
   },
   "outputs": [
    {
     "name": "stdout",
     "output_type": "stream",
     "text": [
      "                   Bin  Count  Count (%)  Non-event  Event  Event rate  \\\n",
      "0        [-inf, 22.50)   1121   0.166543        930    191    0.170384   \n",
      "1       [22.50, 29.50)    395   0.058684        270    125    0.316456   \n",
      "2       [29.50, 36.50)    393   0.058387        249    144    0.366412   \n",
      "3       [36.50, 52.50)   1503   0.223295        850    653    0.434464   \n",
      "4       [52.50, 56.50)    577   0.085723        322    255    0.441941   \n",
      "5       [56.50, 74.50)   2018   0.299807       1125    893    0.442517   \n",
      "6       [74.50, 81.50)    382   0.056752        209    173    0.452880   \n",
      "7         [81.50, inf)    342   0.050810        186    156    0.456140   \n",
      "8              Special      0   0.000000          0      0    0.000000   \n",
      "9              Missing      0   0.000000          0      0    0.000000   \n",
      "Totals                   6731   1.000000       4141   2590    0.384787   \n",
      "\n",
      "              WoE        IV        JS  \n",
      "0         1.11363  0.167978  0.019975  \n",
      "1        0.300829  0.005096  0.000635  \n",
      "2       0.0783602  0.000355  0.000044  \n",
      "3        -0.20562  0.009635  0.001202  \n",
      "4       -0.235991  0.004884  0.000609  \n",
      "5       -0.238328  0.017425  0.002173  \n",
      "6       -0.280237  0.004575  0.000570  \n",
      "7       -0.293389  0.004493  0.000560  \n",
      "8               0  0.000000  0.000000  \n",
      "9               0  0.000000  0.000000  \n",
      "Totals             0.214442  0.025768  \n"
     ]
    }
   ],
   "source": [
    "variable = 'age'\n",
    "var_list = transcript[condition][[variable, 'offer_is_completed']][variable].values\n",
    "target = transcript[condition][[variable, 'offer_is_completed']]['offer_is_completed'].values\n",
    "#optb = OptimalBinning(name=variable, dtype=\"numerical\", solver=\"cp\")\n",
    "optb = OptimalBinning(name=variable, dtype=\"numerical\", solver=\"cp\", monotonic_trend=\"ascending\")\n",
    "optb.fit(var_list, target)\n",
    "print(optb.binning_table.build())"
   ]
  },
  {
   "cell_type": "code",
   "execution_count": 560,
   "metadata": {},
   "outputs": [],
   "source": [
    "name = variable+'_'+offer+'_woe'\n",
    "transcript[name] = optb.transform(transcript[variable], metric=\"woe\")\n",
    "#print(name)"
   ]
  },
  {
   "cell_type": "markdown",
   "metadata": {},
   "source": [
    "### Income"
   ]
  },
  {
   "cell_type": "code",
   "execution_count": 561,
   "metadata": {},
   "outputs": [
    {
     "name": "stdout",
     "output_type": "stream",
     "text": [
      "                         Bin  Count  Count (%)  Non-event  Event  Event rate  \\\n",
      "0           [-inf, 14999.50)    868   0.128956        745    123    0.141705   \n",
      "1       [14999.50, 44500.00)   1112   0.165206        771    341    0.306655   \n",
      "2       [44500.00, 49500.00)    361   0.053632        244    117    0.324100   \n",
      "3       [49500.00, 62500.00)   1364   0.202644        797    567    0.415689   \n",
      "4       [62500.00, 75500.00)   1306   0.194028        732    574    0.439510   \n",
      "5            [75500.00, inf)   1720   0.255534        852    868    0.504651   \n",
      "6                    Special      0   0.000000          0      0    0.000000   \n",
      "7                    Missing      0   0.000000          0      0    0.000000   \n",
      "Totals                         6731   1.000000       4141   2590    0.384787   \n",
      "\n",
      "             WoE        IV        JS  \n",
      "0        1.33192  0.176370  0.020549  \n",
      "1       0.346526  0.018895  0.002350  \n",
      "2       0.265715  0.003653  0.000455  \n",
      "3      -0.128784  0.003407  0.000426  \n",
      "4      -0.226128  0.010142  0.001265  \n",
      "5      -0.487885  0.063126  0.007813  \n",
      "6              0  0.000000  0.000000  \n",
      "7              0  0.000000  0.000000  \n",
      "Totals            0.275594  0.032858  \n"
     ]
    }
   ],
   "source": [
    "variable = 'income'\n",
    "var_list = transcript[condition][[variable, 'offer_is_completed']][variable].values\n",
    "target = transcript[condition][[variable, 'offer_is_completed']]['offer_is_completed'].values\n",
    "#optb = OptimalBinning(name=variable, dtype=\"numerical\", solver=\"cp\")\n",
    "optb = OptimalBinning(name=variable, dtype=\"numerical\", solver=\"cp\", monotonic_trend=\"ascending\")\n",
    "optb.fit(var_list, target)\n",
    "print(optb.binning_table.build())"
   ]
  },
  {
   "cell_type": "code",
   "execution_count": 562,
   "metadata": {},
   "outputs": [],
   "source": [
    "name = variable+'_'+offer+'_woe'\n",
    "transcript[name] = optb.transform(transcript[variable], metric=\"woe\")"
   ]
  },
  {
   "cell_type": "markdown",
   "metadata": {},
   "source": [
    "### became_member_on"
   ]
  },
  {
   "cell_type": "code",
   "execution_count": 563,
   "metadata": {},
   "outputs": [
    {
     "name": "stdout",
     "output_type": "stream",
     "text": [
      "                               Bin  Count  Count (%)  Non-event  Event  \\\n",
      "0              [-inf, 20160701.00)   1840   0.273362        919    921   \n",
      "1       [20160701.00, 20170401.00)    999   0.148418        500    499   \n",
      "2       [20170401.00, 20170727.00)    433   0.064329        222    211   \n",
      "3       [20170727.00, 20180203.00)   2092   0.310801       1439    653   \n",
      "4       [20180203.00, 20180413.00)    544   0.080820        408    136   \n",
      "5               [20180413.00, inf)    823   0.122270        653    170   \n",
      "6                          Special      0   0.000000          0      0   \n",
      "7                          Missing      0   0.000000          0      0   \n",
      "Totals                               6731   1.000000       4141   2590   \n",
      "\n",
      "        Event rate       WoE        IV        JS  \n",
      "0         0.500543 -0.471453  0.063020  0.007805  \n",
      "1         0.499499 -0.467277  0.033607  0.004163  \n",
      "2         0.487298  -0.41846  0.011657  0.001447  \n",
      "3         0.312141  0.320847  0.030601  0.003809  \n",
      "4         0.250000  0.629333  0.028960  0.003561  \n",
      "5         0.206561  0.876499  0.080686  0.009775  \n",
      "6         0.000000         0  0.000000  0.000000  \n",
      "7         0.000000         0  0.000000  0.000000  \n",
      "Totals    0.384787            0.248531  0.030560  \n"
     ]
    }
   ],
   "source": [
    "variable = 'became_member_on'\n",
    "var_list = transcript[condition][[variable, 'offer_is_completed']][variable].values\n",
    "target = transcript[condition][[variable, 'offer_is_completed']]['offer_is_completed'].values\n",
    "#optb = OptimalBinning(name=variable, dtype=\"numerical\", solver=\"cp\")\n",
    "optb = OptimalBinning(name=variable, dtype=\"numerical\", solver=\"cp\", monotonic_trend=\"descending\")\n",
    "optb.fit(var_list, target)\n",
    "print(optb.binning_table.build())"
   ]
  },
  {
   "cell_type": "code",
   "execution_count": 564,
   "metadata": {},
   "outputs": [],
   "source": [
    "name = variable+'_'+offer+'_woe'\n",
    "transcript[name] = optb.transform(transcript[variable], metric=\"woe\")"
   ]
  },
  {
   "cell_type": "markdown",
   "metadata": {},
   "source": [
    "### Gender"
   ]
  },
  {
   "cell_type": "code",
   "execution_count": 565,
   "metadata": {},
   "outputs": [
    {
     "name": "stdout",
     "output_type": "stream",
     "text": [
      "            Bin  Count  Count (%)  Non-event  Event  Event rate       WoE  \\\n",
      "0        [null]    868   0.128956        745    123    0.141705   1.33192   \n",
      "1           [M]   3318   0.492943       2003   1315    0.396323  -0.04847   \n",
      "2           [F]   2454   0.364582       1347   1107    0.451100 -0.273053   \n",
      "3           [O]     91   0.013520         46     45    0.494505 -0.447301   \n",
      "4       Special      0   0.000000          0      0    0.000000         0   \n",
      "5       Missing      0   0.000000          0      0    0.000000         0   \n",
      "Totals            6731   1.000000       4141   2590    0.384787             \n",
      "\n",
      "              IV        JS  \n",
      "0       0.176370  0.020549  \n",
      "1       0.001164  0.000146  \n",
      "2       0.027887  0.003475  \n",
      "3       0.002803  0.000347  \n",
      "4       0.000000  0.000000  \n",
      "5       0.000000  0.000000  \n",
      "Totals  0.208224  0.024517  \n"
     ]
    }
   ],
   "source": [
    "variable = 'gender'\n",
    "var_list = transcript[condition][[variable, 'offer_is_completed']][variable].values\n",
    "target = transcript[condition][[variable, 'offer_is_completed']]['offer_is_completed'].values\n",
    "#optb = OptimalBinning(name=variable, dtype=\"numerical\", solver=\"cp\")\n",
    "#optb = OptimalBinning(name=variable, dtype=\"numerical\", solver=\"cp\", monotonic_trend=\"descending\")\n",
    "optb = OptimalBinning(name=variable, dtype=\"categorical\", solver=\"mip\",cat_cutoff=0.1)\n",
    "optb.fit(var_list, target)\n",
    "print(optb.binning_table.build())"
   ]
  },
  {
   "cell_type": "code",
   "execution_count": 566,
   "metadata": {},
   "outputs": [],
   "source": [
    "name = variable+'_'+offer+'_woe'\n",
    "transcript[name] = optb.transform(transcript[variable], metric=\"woe\")"
   ]
  },
  {
   "cell_type": "markdown",
   "metadata": {},
   "source": [
    "### Rewards"
   ]
  },
  {
   "cell_type": "code",
   "execution_count": 567,
   "metadata": {},
   "outputs": [
    {
     "name": "stdout",
     "output_type": "stream",
     "text": [
      "                 Bin  Count  Count (%)  Non-event  Event  Event rate      WoE  \\\n",
      "0       [-inf, 4.00)   5033   0.747734       2709   2324    0.461752 -0.31599   \n",
      "1        [4.00, inf)   1698   0.252266       1432    266    0.156655  1.21405   \n",
      "2            Special      0   0.000000          0      0    0.000000        0   \n",
      "3            Missing      0   0.000000          0      0    0.000000        0   \n",
      "Totals                 6731   1.000000       4141   2590    0.384787            \n",
      "\n",
      "              IV        JS  \n",
      "0       0.076819  0.009563  \n",
      "1       0.295145  0.034782  \n",
      "2       0.000000  0.000000  \n",
      "3       0.000000  0.000000  \n",
      "Totals  0.371965  0.044345  \n"
     ]
    }
   ],
   "source": [
    "variable = 'reward'\n",
    "var_list = transcript[condition][[variable, 'offer_is_completed']][variable].values\n",
    "target = transcript[condition][[variable, 'offer_is_completed']]['offer_is_completed'].values\n",
    "optb = OptimalBinning(name=variable, dtype=\"numerical\", solver=\"cp\")\n",
    "#optb = OptimalBinning(name=variable, dtype=\"numerical\", solver=\"cp\", monotonic_trend=\"descending\")\n",
    "#optb = OptimalBinning(name=variable, dtype=\"categorical\", solver=\"mip\",cat_cutoff=0.1)\n",
    "optb.fit(var_list, target)\n",
    "print(optb.binning_table.build())"
   ]
  },
  {
   "cell_type": "markdown",
   "metadata": {},
   "source": [
    "### Channels"
   ]
  },
  {
   "cell_type": "code",
   "execution_count": 568,
   "metadata": {},
   "outputs": [
    {
     "name": "stdout",
     "output_type": "stream",
     "text": [
      "                                           Bin  Count  Count (%)  Non-event  \\\n",
      "0                           [['web', 'email']]   1698   0.252266       1432   \n",
      "1                 [['web', 'email', 'mobile']]   1638   0.243352       1182   \n",
      "2       [['web', 'email', 'mobile', 'social']]   3395   0.504383       1527   \n",
      "3                                      Special      0   0.000000          0   \n",
      "4                                      Missing      0   0.000000          0   \n",
      "Totals                                           6731   1.000000       4141   \n",
      "\n",
      "        Event  Event rate       WoE        IV        JS  \n",
      "0         266    0.156655   1.21405  0.295145  0.034782  \n",
      "1         456    0.278388  0.483191  0.052850  0.006543  \n",
      "2        1868    0.550221 -0.670843  0.236461  0.029016  \n",
      "3           0    0.000000         0  0.000000  0.000000  \n",
      "4           0    0.000000         0  0.000000  0.000000  \n",
      "Totals   2590    0.384787            0.584456  0.070341  \n"
     ]
    }
   ],
   "source": [
    "variable = 'channels'\n",
    "var_list = transcript[condition][[variable, 'offer_is_completed']][variable].values\n",
    "target = transcript[condition][[variable, 'offer_is_completed']]['offer_is_completed'].values\n",
    "#optb = OptimalBinning(name=variable, dtype=\"numerical\", solver=\"cp\")\n",
    "#optb = OptimalBinning(name=variable, dtype=\"numerical\", solver=\"cp\", monotonic_trend=\"descending\")\n",
    "optb = OptimalBinning(name=variable, dtype=\"categorical\", solver=\"mip\",cat_cutoff=0.1)\n",
    "optb.fit(var_list, target)\n",
    "print(optb.binning_table.build())"
   ]
  },
  {
   "cell_type": "code",
   "execution_count": 569,
   "metadata": {},
   "outputs": [],
   "source": [
    "name = variable+'_'+offer+'_woe'\n",
    "transcript[name] = optb.transform(transcript[variable], metric=\"woe\")"
   ]
  },
  {
   "cell_type": "markdown",
   "metadata": {},
   "source": [
    "### Difficulty"
   ]
  },
  {
   "cell_type": "code",
   "execution_count": 570,
   "metadata": {},
   "outputs": [
    {
     "name": "stdout",
     "output_type": "stream",
     "text": [
      "                  Bin  Count  Count (%)  Non-event  Event  Event rate  \\\n",
      "0        [-inf, 8.50)   1738   0.258208        811    927    0.533372   \n",
      "1       [8.50, 15.00)   3295   0.489526       1898   1397    0.423976   \n",
      "2        [15.00, inf)   1698   0.252266       1432    266    0.156655   \n",
      "3             Special      0   0.000000          0      0    0.000000   \n",
      "4             Missing      0   0.000000          0      0    0.000000   \n",
      "Totals                  6731   1.000000       4141   2590    0.384787   \n",
      "\n",
      "             WoE        IV        JS  \n",
      "0      -0.602965  0.097722  0.012033  \n",
      "1      -0.162806  0.013194  0.001647  \n",
      "2        1.21405  0.295145  0.034782  \n",
      "3              0  0.000000  0.000000  \n",
      "4              0  0.000000  0.000000  \n",
      "Totals            0.406060  0.048463  \n"
     ]
    }
   ],
   "source": [
    "variable = 'difficulty'\n",
    "var_list = transcript[condition][[variable, 'offer_is_completed']][variable].values\n",
    "target = transcript[condition][[variable, 'offer_is_completed']]['offer_is_completed'].values\n",
    "optb = OptimalBinning(name=variable, dtype=\"numerical\", solver=\"cp\")\n",
    "#optb = OptimalBinning(name=variable, dtype=\"numerical\", solver=\"cp\", monotonic_trend=\"descending\")\n",
    "#optb = OptimalBinning(name=variable, dtype=\"categorical\", solver=\"mip\",cat_cutoff=0.1)\n",
    "optb.fit(var_list, target)\n",
    "print(optb.binning_table.build())"
   ]
  },
  {
   "cell_type": "markdown",
   "metadata": {},
   "source": [
    "### Duration"
   ]
  },
  {
   "cell_type": "code",
   "execution_count": 571,
   "metadata": {},
   "outputs": [
    {
     "name": "stdout",
     "output_type": "stream",
     "text": [
      "                 Bin  Count  Count (%)  Non-event  Event  Event rate  \\\n",
      "0       [-inf, 8.50)   3376    0.50156       1993   1383    0.409656   \n",
      "1        [8.50, inf)   3355    0.49844       2148   1207    0.359762   \n",
      "2            Special      0    0.00000          0      0    0.000000   \n",
      "3            Missing      0    0.00000          0      0    0.000000   \n",
      "Totals                 6731    1.00000       4141   2590    0.384787   \n",
      "\n",
      "             WoE        IV        JS  \n",
      "0      -0.103893  0.005474  0.000684  \n",
      "1        0.10712  0.005644  0.000705  \n",
      "2              0  0.000000  0.000000  \n",
      "3              0  0.000000  0.000000  \n",
      "Totals            0.011119  0.001389  \n"
     ]
    }
   ],
   "source": [
    "variable = 'duration'\n",
    "var_list = transcript[condition][[variable, 'offer_is_completed']][variable].values\n",
    "target = transcript[condition][[variable, 'offer_is_completed']]['offer_is_completed'].values\n",
    "optb = OptimalBinning(name=variable, dtype=\"numerical\", solver=\"cp\")\n",
    "#optb = OptimalBinning(name=variable, dtype=\"numerical\", solver=\"cp\", monotonic_trend=\"descending\")\n",
    "#optb = OptimalBinning(name=variable, dtype=\"categorical\", solver=\"mip\",cat_cutoff=0.1)\n",
    "optb.fit(var_list, target)\n",
    "print(optb.binning_table.build())"
   ]
  },
  {
   "cell_type": "code",
   "execution_count": 572,
   "metadata": {},
   "outputs": [],
   "source": [
    "name = variable+'_'+offer+'_woe'\n",
    "transcript[name] = optb.transform(transcript[variable], metric=\"woe\")"
   ]
  },
  {
   "cell_type": "code",
   "execution_count": 573,
   "metadata": {},
   "outputs": [],
   "source": [
    "transcript.to_csv('data/full_table_with_woe.csv')   "
   ]
  },
  {
   "cell_type": "code",
   "execution_count": 574,
   "metadata": {},
   "outputs": [
    {
     "name": "stdout",
     "output_type": "stream",
     "text": [
      "1005.73\n",
      "0.0 None\n"
     ]
    }
   ],
   "source": [
    "amount_difference = []\n",
    "for index, row in transcript[transcript['amount_when_completed']>0][col_inspect].iterrows():\n",
    "    #print(row['sum_amount'], transcript.at[row['offer_index_completed'], 'difficulty'])\n",
    "    diff_amount = row['amount_when_completed'] - row['difficulty']\n",
    "    if diff_amount < 0 or np.isnan(diff_amount): print(transcript.at[index, 'person'])\n",
    "    amount_difference.append(diff_amount)\n",
    "amount_difference = sorted(amount_difference)\n",
    "print(min(amount_difference), print(max(amount_difference)))"
   ]
  },
  {
   "cell_type": "code",
   "execution_count": 577,
   "metadata": {},
   "outputs": [
    {
     "data": {
      "text/plain": [
       "5         17.68\n",
       "9         27.94\n",
       "30         4.93\n",
       "36         2.05\n",
       "38        17.05\n",
       "          ...  \n",
       "306501     6.06\n",
       "306507     2.88\n",
       "306515     5.57\n",
       "306519     7.55\n",
       "306524    17.02\n",
       "Length: 23809, dtype: float64"
      ]
     },
     "execution_count": 577,
     "metadata": {},
     "output_type": "execute_result"
    }
   ],
   "source": [
    "transcript[transcript['amount_when_completed']>0]['amount_when_completed'] - transcript[transcript['amount_when_completed']>0]['difficulty']"
   ]
  },
  {
   "cell_type": "code",
   "execution_count": null,
   "metadata": {},
   "outputs": [],
   "source": []
  },
  {
   "cell_type": "code",
   "execution_count": null,
   "metadata": {},
   "outputs": [],
   "source": []
  }
 ],
 "metadata": {
  "kernelspec": {
   "display_name": "Python 3",
   "language": "python",
   "name": "python3"
  },
  "language_info": {
   "codemirror_mode": {
    "name": "ipython",
    "version": 3
   },
   "file_extension": ".py",
   "mimetype": "text/x-python",
   "name": "python",
   "nbconvert_exporter": "python",
   "pygments_lexer": "ipython3",
   "version": "3.8.5"
  }
 },
 "nbformat": 4,
 "nbformat_minor": 4
}
