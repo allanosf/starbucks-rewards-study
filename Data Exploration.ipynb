{
 "cells": [
  {
   "cell_type": "code",
   "execution_count": 543,
   "metadata": {},
   "outputs": [],
   "source": [
    "import pandas as pd\n",
    "import numpy as np\n",
    "import math\n",
    "import json\n",
    "from matplotlib import pyplot as plt\n",
    "%matplotlib inline\n",
    "\n",
    "# read in the json files\n",
    "portfolio = pd.read_json('data/portfolio.json', orient='records', lines=True)\n",
    "profile = pd.read_json('data/profile.json', orient='records', lines=True)\n",
    "transcript = pd.read_json('data/transcript.json', orient='records', lines=True)"
   ]
  },
  {
   "cell_type": "markdown",
   "metadata": {},
   "source": [
    "## Describing columns for each files"
   ]
  },
  {
   "cell_type": "code",
   "execution_count": 475,
   "metadata": {},
   "outputs": [],
   "source": [
    "#print('------ PORTFOLIO --------')\n",
    "#print(portfolio.describe(include='all'))\n",
    "#print('------  PROFILE  --------')\n",
    "#print(profile.describe(include='all'))\n",
    "#print('------ TRANSCRIPT -------')\n",
    "#print(transcript.describe(include='all') )"
   ]
  },
  {
   "cell_type": "markdown",
   "metadata": {},
   "source": [
    "### Portfolio dataset description \n",
    "|        | reward    | channels                     | difficulty | duration  | offer_type | id                               |\n",
    "|--------|-----------|------------------------------|------------|-----------|------------|----------------------------------|\n",
    "| count  | 10.0 | 10                           | 10.000000  | 10.000000 | 10         | 10                               |\n",
    "| unique | NaN       | 4                            | NaN        | NaN       | 3          | 10                               |\n",
    "| top    | NaN       | [web, email, mobile, social] | NaN        | NaN       | bogo       | 0b1e1539f2cc45b7b9fa7c272da2e1d7 |\n",
    "| freq   | NaN       | 4                            | NaN        | NaN       | 4          | 1                                |\n",
    "| mean   | 4.2  | NaN                          | 7.700000   | 6.500000  | NaN        | NaN                              |\n",
    "| std    | 3.58  | NaN                          | 5.831905   | 2.321398  | NaN        | NaN                              |\n",
    "| min    | 0.0  | NaN                          | 0.000000   | 3.000000  | NaN        | NaN                              |\n",
    "| 25%    | 2.0  | NaN                          | 5.000000   | 5.000000  | NaN        | NaN                              |\n",
    "| 50%    | 4.0  | NaN                          | 8.500000   | 7.000000  | NaN        | NaN                              |\n",
    "| 75%    | 5.0  | NaN                          | 10.000000  | 7.000000  | NaN        | NaN                              |\n",
    "| max    | 10.0 | NaN                          | 20.000000  | 10.000000 | NaN        | NaN                              |\n",
    "\n",
    "### Profile dataset description \n",
    "|        | gender | age          | id                               | became_member_on | income        |\n",
    "|--------|--------|--------------|----------------------------------|------------------|---------------|\n",
    "| count  | 14825  | 17000 | 17000                            | 1.700000e+04     | 14825.0  |\n",
    "| unique | 3      | NaN          | 17000                            | NaN              | NaN           |\n",
    "| top    | M      | NaN          | 033d0a511a5c452ea2be37a23f8c6dcb | NaN              | NaN           |\n",
    "| freq   | 8484   | NaN          | 1                                | NaN              | NaN           |\n",
    "| mean   | NaN    | 62.5    | NaN                              | 2.016703e+07     | 65404.9  |\n",
    "| std    | NaN    | 26.7    | NaN                              | 1.167750e+04     | 21598.2|\n",
    "| min    | NaN    | 18    | NaN                              | 2.013073e+07     | 30000.0  |\n",
    "| 25%    | NaN    | 45   | NaN                              | 2.016053e+07     | 49000.0  |\n",
    "| 50%    | NaN    | 58   | NaN                              | 2.017080e+07     | 64000.0 |\n",
    "| 75%    | NaN    | 73    | NaN                              | 2.017123e+07     | 80000.0  |\n",
    "| max    | NaN    | 118  | NaN                              | 2.018073e+07     | 120000.0 |\n",
    "\n",
    "### Transcript dataset description \n",
    "\n",
    "|        | person                           | event       | value                                            | time          |\n",
    "|--------|----------------------------------|-------------|--------------------------------------------------|---------------|\n",
    "| count  | 306534                           | 306534      | 306534                                           | 306534.0 |\n",
    "| unique | 17000                            | 4           | 5121                                             | NaN           |\n",
    "| top    | 94de646f7b6041228ca7dec82adb97d2 | transaction | {'offer id': '2298d6c36e964ae4a3e7e9706d1fb8c2'} | NaN           |\n",
    "| freq   | 51                               | 138953      | 14983                                            | NaN           |\n",
    "| mean   | NaN                              | NaN         | NaN                                              | 366.3    |\n",
    "| std    | NaN                              | NaN         | NaN                                              | 200.3    |\n",
    "| min    | NaN                              | NaN         | NaN                                              | 0.0      |\n",
    "| 25%    | NaN                              | NaN         | NaN                                              | 186.0    |\n",
    "| 50%    | NaN                              | NaN         | NaN                                              | 408.0    |\n",
    "| 75%    | NaN                              | NaN         | NaN                                              | 528.0    |\n",
    "| max    | NaN                              | NaN         | NaN                                              | 714.0    |"
   ]
  },
  {
   "cell_type": "markdown",
   "metadata": {},
   "source": [
    "## Merging datasets"
   ]
  },
  {
   "cell_type": "markdown",
   "metadata": {},
   "source": [
    "### Changing IDs nomas from portfolio and profile more descriptives"
   ]
  },
  {
   "cell_type": "code",
   "execution_count": 544,
   "metadata": {},
   "outputs": [],
   "source": [
    "portfolio = portfolio.rename(columns={\"id\": \"portfolio_id\"})\n",
    "profile = profile.rename(columns={\"id\": \"profile_id\"}) \n",
    "#Change transcript time to days\n",
    "transcript['days'] = transcript['time'].apply(lambda x: x/24.0)"
   ]
  },
  {
   "cell_type": "markdown",
   "metadata": {},
   "source": [
    "### Get data from value column on transcript file"
   ]
  },
  {
   "cell_type": "code",
   "execution_count": 545,
   "metadata": {},
   "outputs": [],
   "source": [
    "transcript['offer_id'] = transcript['value'].apply(lambda x: x.get('offer id'))\n",
    "transcript['amount'] = transcript['value'].apply(lambda x: x.get('amount'))\n",
    "transcript = transcript.drop(columns = ['value'])"
   ]
  },
  {
   "cell_type": "markdown",
   "metadata": {},
   "source": [
    "### Merge files in one dataframe"
   ]
  },
  {
   "cell_type": "code",
   "execution_count": 546,
   "metadata": {},
   "outputs": [],
   "source": [
    "transcript = transcript.merge(profile, left_on='person', right_on='profile_id', how='left')\n",
    "transcript = transcript.drop(columns=['profile_id'])\n",
    "transcript = transcript.merge(portfolio, left_on='offer_id', right_on='portfolio_id', how='left')\n",
    "transcript = transcript.drop(columns=['portfolio_id'])"
   ]
  },
  {
   "cell_type": "code",
   "execution_count": 547,
   "metadata": {},
   "outputs": [
    {
     "data": {
      "text/html": [
       "<div>\n",
       "<style scoped>\n",
       "    .dataframe tbody tr th:only-of-type {\n",
       "        vertical-align: middle;\n",
       "    }\n",
       "\n",
       "    .dataframe tbody tr th {\n",
       "        vertical-align: top;\n",
       "    }\n",
       "\n",
       "    .dataframe thead th {\n",
       "        text-align: right;\n",
       "    }\n",
       "</style>\n",
       "<table border=\"1\" class=\"dataframe\">\n",
       "  <thead>\n",
       "    <tr style=\"text-align: right;\">\n",
       "      <th></th>\n",
       "      <th>person</th>\n",
       "      <th>event</th>\n",
       "      <th>time</th>\n",
       "      <th>days</th>\n",
       "      <th>offer_id</th>\n",
       "      <th>amount</th>\n",
       "      <th>gender</th>\n",
       "      <th>age</th>\n",
       "      <th>became_member_on</th>\n",
       "      <th>income</th>\n",
       "      <th>reward</th>\n",
       "      <th>channels</th>\n",
       "      <th>difficulty</th>\n",
       "      <th>duration</th>\n",
       "      <th>offer_type</th>\n",
       "    </tr>\n",
       "  </thead>\n",
       "  <tbody>\n",
       "    <tr>\n",
       "      <th>0</th>\n",
       "      <td>78afa995795e4d85b5d9ceeca43f5fef</td>\n",
       "      <td>offer received</td>\n",
       "      <td>0</td>\n",
       "      <td>0.0</td>\n",
       "      <td>9b98b8c7a33c4b65b9aebfe6a799e6d9</td>\n",
       "      <td>NaN</td>\n",
       "      <td>F</td>\n",
       "      <td>75</td>\n",
       "      <td>20170509</td>\n",
       "      <td>100000.0</td>\n",
       "      <td>5.0</td>\n",
       "      <td>[web, email, mobile]</td>\n",
       "      <td>5.0</td>\n",
       "      <td>7.0</td>\n",
       "      <td>bogo</td>\n",
       "    </tr>\n",
       "    <tr>\n",
       "      <th>1</th>\n",
       "      <td>a03223e636434f42ac4c3df47e8bac43</td>\n",
       "      <td>offer received</td>\n",
       "      <td>0</td>\n",
       "      <td>0.0</td>\n",
       "      <td>0b1e1539f2cc45b7b9fa7c272da2e1d7</td>\n",
       "      <td>NaN</td>\n",
       "      <td>None</td>\n",
       "      <td>118</td>\n",
       "      <td>20170804</td>\n",
       "      <td>NaN</td>\n",
       "      <td>5.0</td>\n",
       "      <td>[web, email]</td>\n",
       "      <td>20.0</td>\n",
       "      <td>10.0</td>\n",
       "      <td>discount</td>\n",
       "    </tr>\n",
       "    <tr>\n",
       "      <th>2</th>\n",
       "      <td>e2127556f4f64592b11af22de27a7932</td>\n",
       "      <td>offer received</td>\n",
       "      <td>0</td>\n",
       "      <td>0.0</td>\n",
       "      <td>2906b810c7d4411798c6938adc9daaa5</td>\n",
       "      <td>NaN</td>\n",
       "      <td>M</td>\n",
       "      <td>68</td>\n",
       "      <td>20180426</td>\n",
       "      <td>70000.0</td>\n",
       "      <td>2.0</td>\n",
       "      <td>[web, email, mobile]</td>\n",
       "      <td>10.0</td>\n",
       "      <td>7.0</td>\n",
       "      <td>discount</td>\n",
       "    </tr>\n",
       "    <tr>\n",
       "      <th>3</th>\n",
       "      <td>8ec6ce2a7e7949b1bf142def7d0e0586</td>\n",
       "      <td>offer received</td>\n",
       "      <td>0</td>\n",
       "      <td>0.0</td>\n",
       "      <td>fafdcd668e3743c1bb461111dcafc2a4</td>\n",
       "      <td>NaN</td>\n",
       "      <td>None</td>\n",
       "      <td>118</td>\n",
       "      <td>20170925</td>\n",
       "      <td>NaN</td>\n",
       "      <td>2.0</td>\n",
       "      <td>[web, email, mobile, social]</td>\n",
       "      <td>10.0</td>\n",
       "      <td>10.0</td>\n",
       "      <td>discount</td>\n",
       "    </tr>\n",
       "    <tr>\n",
       "      <th>4</th>\n",
       "      <td>68617ca6246f4fbc85e91a2a49552598</td>\n",
       "      <td>offer received</td>\n",
       "      <td>0</td>\n",
       "      <td>0.0</td>\n",
       "      <td>4d5c57ea9a6940dd891ad53e9dbe8da0</td>\n",
       "      <td>NaN</td>\n",
       "      <td>None</td>\n",
       "      <td>118</td>\n",
       "      <td>20171002</td>\n",
       "      <td>NaN</td>\n",
       "      <td>10.0</td>\n",
       "      <td>[web, email, mobile, social]</td>\n",
       "      <td>10.0</td>\n",
       "      <td>5.0</td>\n",
       "      <td>bogo</td>\n",
       "    </tr>\n",
       "  </tbody>\n",
       "</table>\n",
       "</div>"
      ],
      "text/plain": [
       "                             person           event  time  days  \\\n",
       "0  78afa995795e4d85b5d9ceeca43f5fef  offer received     0   0.0   \n",
       "1  a03223e636434f42ac4c3df47e8bac43  offer received     0   0.0   \n",
       "2  e2127556f4f64592b11af22de27a7932  offer received     0   0.0   \n",
       "3  8ec6ce2a7e7949b1bf142def7d0e0586  offer received     0   0.0   \n",
       "4  68617ca6246f4fbc85e91a2a49552598  offer received     0   0.0   \n",
       "\n",
       "                           offer_id  amount gender  age  became_member_on  \\\n",
       "0  9b98b8c7a33c4b65b9aebfe6a799e6d9     NaN      F   75          20170509   \n",
       "1  0b1e1539f2cc45b7b9fa7c272da2e1d7     NaN   None  118          20170804   \n",
       "2  2906b810c7d4411798c6938adc9daaa5     NaN      M   68          20180426   \n",
       "3  fafdcd668e3743c1bb461111dcafc2a4     NaN   None  118          20170925   \n",
       "4  4d5c57ea9a6940dd891ad53e9dbe8da0     NaN   None  118          20171002   \n",
       "\n",
       "     income  reward                      channels  difficulty  duration  \\\n",
       "0  100000.0     5.0          [web, email, mobile]         5.0       7.0   \n",
       "1       NaN     5.0                  [web, email]        20.0      10.0   \n",
       "2   70000.0     2.0          [web, email, mobile]        10.0       7.0   \n",
       "3       NaN     2.0  [web, email, mobile, social]        10.0      10.0   \n",
       "4       NaN    10.0  [web, email, mobile, social]        10.0       5.0   \n",
       "\n",
       "  offer_type  \n",
       "0       bogo  \n",
       "1   discount  \n",
       "2   discount  \n",
       "3   discount  \n",
       "4       bogo  "
      ]
     },
     "execution_count": 547,
     "metadata": {},
     "output_type": "execute_result"
    }
   ],
   "source": [
    "transcript.head()"
   ]
  },
  {
   "cell_type": "markdown",
   "metadata": {},
   "source": [
    "## General analysis of some variables\n",
    "\n",
    "### Getting Offers types and counting events\n",
    "\n",
    "How many offers Starbucks gave to their customers and which types of events how many of it we can get in the behavior of all the customers."
   ]
  },
  {
   "cell_type": "code",
   "execution_count": 548,
   "metadata": {},
   "outputs": [
    {
     "name": "stdout",
     "output_type": "stream",
     "text": [
      "Unique values in column \"offer_type\" of Portfolilio\n",
      "['bogo' 'informational' 'discount']\n",
      "\n",
      "Unique values in column \"event\" of Transcript\n",
      "event\n",
      "offer completed     33579\n",
      "offer received      76277\n",
      "offer viewed        57725\n",
      "transaction        138953\n",
      "Name: person, dtype: int64\n"
     ]
    }
   ],
   "source": [
    "print('Unique values in column \"offer_type\" of Portfolilio')\n",
    "print(portfolio.offer_type.unique())\n",
    "print('\\nUnique values in column \"event\" of Transcript')\n",
    "print(transcript.groupby(['event']).count()['person'])"
   ]
  },
  {
   "cell_type": "markdown",
   "metadata": {},
   "source": [
    "### Histograms"
   ]
  },
  {
   "cell_type": "code",
   "execution_count": 549,
   "metadata": {},
   "outputs": [
    {
     "data": {
      "text/plain": [
       "Text(0.5, 1.0, 'Age Histogram')"
      ]
     },
     "execution_count": 549,
     "metadata": {},
     "output_type": "execute_result"
    },
    {
     "data": {
      "image/png": "[encoded data removed]",
      "text/plain": [
       "<Figure size 432x288 with 1 Axes>"
      ]
     },
     "metadata": {
      "needs_background": "light"
     },
     "output_type": "display_data"
    }
   ],
   "source": [
    "transcript['age'].hist()\n",
    "plt.title('Age Histogram')"
   ]
  },
  {
   "cell_type": "markdown",
   "metadata": {},
   "source": [
    "In the **age** column there is some value **above 100**, these values can be trated like an abnormalitie. Later we could give a special value, something appropiate to the model."
   ]
  },
  {
   "cell_type": "code",
   "execution_count": 550,
   "metadata": {},
   "outputs": [
    {
     "data": {
      "text/plain": [
       "Text(0.5, 1.0, 'Income Histogram')"
      ]
     },
     "execution_count": 550,
     "metadata": {},
     "output_type": "execute_result"
    },
    {
     "data": {
      "image/png": "[encoded data removed]",
      "text/plain": [
       "<Figure size 432x288 with 1 Axes>"
      ]
     },
     "metadata": {
      "needs_background": "light"
     },
     "output_type": "display_data"
    }
   ],
   "source": [
    "transcript['income'].hist()\n",
    "plt.title('Income Histogram')"
   ]
  },
  {
   "cell_type": "code",
   "execution_count": 551,
   "metadata": {},
   "outputs": [
    {
     "data": {
      "text/plain": [
       "Text(0.5, 1.0, 'Become Member Age - Histogram')"
      ]
     },
     "execution_count": 551,
     "metadata": {},
     "output_type": "execute_result"
    },
    {
     "data": {
      "image/png": "[encoded data removed]",
      "text/plain": [
       "<Figure size 432x288 with 1 Axes>"
      ]
     },
     "metadata": {
      "needs_background": "light"
     },
     "output_type": "display_data"
    }
   ],
   "source": [
    "transcript['became_member_on'].hist()\n",
    "plt.title('Become Member Age - Histogram')"
   ]
  },
  {
   "cell_type": "code",
   "execution_count": 552,
   "metadata": {},
   "outputs": [],
   "source": [
    "#Order transcript by person and days\n",
    "transcript = transcript.sort_values(['person', 'days'], ascending=[True, True], ignore_index=True)\n",
    "#Add new column: If the offer completed has been viewed by the client then is a influenced_offer = 1, otherwise = 0\n",
    "transcript['sum_amount'] = 0.0 \n",
    "transcript['offer_index_received'] = ''\n",
    "transcript['offer_is_completed'] = 0\n",
    "transcript['amount_when_completed'] = 0.0"
   ]
  },
  {
   "cell_type": "code",
   "execution_count": 553,
   "metadata": {},
   "outputs": [],
   "source": [
    "def is_same_the_person_and_not_informational_offer(index, row, transcsript):\n",
    "    if row['offer_type'] != 'informational':\n",
    "        return True\n",
    "    else:\n",
    "        return False\n",
    "\n",
    "def add_new_offer_received_to_dict(index, row, offer_dict):\n",
    "    # Dictionary of received offer. {index_offer_received : index_offer_received_viewed}\n",
    "    #received_dict[received_index] = ''\n",
    "    #return received_dict\n",
    "    offer_dict[index] = {'is_viewed': False, \n",
    "                         'sum_amount': 0.0, \n",
    "                         'is_valid_day': True,\n",
    "                         'completed': False,\n",
    "                         'current_day': row['days'], \n",
    "                         'channels' : row['channels'],\n",
    "                         'offer_type': row['offer_type'],\n",
    "                         'reward': row['reward'],\n",
    "                         'duration' : row['duration'],\n",
    "                         'difficulty': row['difficulty'],\n",
    "                         'person': row['person']\n",
    "                        }\n",
    "    return offer_dict\n",
    "\n",
    "def same_viewed_vs_received(row, value):\n",
    "    list_columns_to_compare = ['channels', 'offer_type', 'reward', 'duration', 'difficulty']\n",
    "    check_list_sum = 0\n",
    "    for e in list_columns_to_compare:\n",
    "        if row[e] == value[e]: check_list_sum += 1\n",
    "            \n",
    "    if check_list_sum == len(list_columns_to_compare):\n",
    "        return True\n",
    "    else:\n",
    "        return False\n",
    "    \n",
    "def offer_is_still_available(row, value):\n",
    "    if row['days'] <= (value['current_day'] + value['duration']):\n",
    "        return True\n",
    "    else:\n",
    "        return False\n",
    "    \n",
    "def offer_reach_min_mount(value):\n",
    "    if value['sum_amount'] >= value['difficulty']:\n",
    "        return True\n",
    "    else:\n",
    "        return False\n",
    "\n",
    "def check_offer_viewed(index, row, offer_dict, transcript):\n",
    "    for key in list(offer_dict):\n",
    "        if same_viewed_vs_received(row, offer_dict[key]):\n",
    "            if offer_is_still_available(row, offer_dict[key]):\n",
    "                offer_dict[key]['is_viewed'] = True\n",
    "                break\n",
    "            else:\n",
    "                offer_dict[key]['is_valid_day'] = False\n",
    "\n",
    "    return offer_dict\n",
    "    \n",
    "def add_information_of_valid_offer_completed(index, row, offer_dict, transcript):\n",
    "    for key, value in offer_dict.items():\n",
    "        if offer_is_still_available(row, value) and value['is_viewed'] and offer_reach_min_mount(value):\n",
    "            transcript.at[index, 'offer_index_received'] = key\n",
    "            transcript.at[index, 'sum_amount'] = value['sum_amount']\n",
    "            transcript.at[key, 'offer_is_completed'] = 1\n",
    "            transcript.at[key, 'amount_when_completed'] = value['sum_amount']\n",
    "            offer_dict[key]['completed'] = True\n",
    "            break\n",
    "    return offer_dict, transcript\n",
    "    \n",
    "def add_transaction_sum_since_offer_received(index, row, offer_dict):\n",
    "    for key, value in offer_dict.items():\n",
    "        if offer_is_still_available(row, value):\n",
    "            offer_dict[key]['sum_amount'] += float(row['amount'])\n",
    "            \n",
    "    return offer_dict\n",
    "\n",
    "def clean_offer_dict(row, offer_dict):\n",
    "    for key in list(offer_dict):\n",
    "        if not offer_is_still_available(row, offer_dict[key]) \\\n",
    "            or row['person'] != offer_dict[key]['person'] \\\n",
    "            or offer_dict[key]['completed'] == True:\n",
    "            del offer_dict[key]\n",
    "            \n",
    "    return offer_dict"
   ]
  },
  {
   "cell_type": "code",
   "execution_count": 554,
   "metadata": {},
   "outputs": [],
   "source": [
    "offer_dict = {}\n",
    "#for index, row in transcript[transcript['person'] == '00840a2ca5d2408e982d56544dc14ffd'].iterrows():\n",
    "for index, row in transcript.iterrows():\n",
    "    if index == 0: continue\n",
    "    if is_same_the_person_and_not_informational_offer(index, row, transcsript) :\n",
    "        if row['event'] == 'offer received':\n",
    "            offer_dict = add_new_offer_received_to_dict(index, row, offer_dict)\n",
    "        if row['event'] == 'offer viewed':\n",
    "            offer_dict = check_offer_viewed(index, row, offer_dict, transcript)\n",
    "        if row['event'] == 'transaction':\n",
    "            offer_dict = add_transaction_sum_since_offer_received(index, row, offer_dict)\n",
    "        if row['event'] == 'offer completed':\n",
    "            offer_dict, transcript = add_information_of_valid_offer_completed(index, row, offer_dict, transcript)\n",
    "    #if row['person'] == '0020c2b971eb4e9188eac86d93036a77':\n",
    "    #    print(index, row, offer_dict)\n",
    "    offer_dict = clean_offer_dict(row, offer_dict)"
   ]
  },
  {
   "cell_type": "code",
   "execution_count": 556,
   "metadata": {},
   "outputs": [],
   "source": [
    "#transcript[transcript['offer_index_completed'] != ''][col_inspect]\n",
    "transcript.to_csv('data/full_table.csv')       "
   ]
  },
  {
   "cell_type": "markdown",
   "metadata": {},
   "source": [
    "## Analysis of one customer behavior and check if their completed offers marks are well defined"
   ]
  },
  {
   "cell_type": "markdown",
   "metadata": {},
   "source": [
    "We can uncomment one of these lines to see in particular one customer behavior trought the time. The `col_inspect` list is given for get the relevant information to check if the mark `offer_is_completed` and `amount_when_completed` are well defined."
   ]
  },
  {
   "cell_type": "code",
   "execution_count": 557,
   "metadata": {},
   "outputs": [
    {
     "data": {
      "text/html": [
       "<div>\n",
       "<style scoped>\n",
       "    .dataframe tbody tr th:only-of-type {\n",
       "        vertical-align: middle;\n",
       "    }\n",
       "\n",
       "    .dataframe tbody tr th {\n",
       "        vertical-align: top;\n",
       "    }\n",
       "\n",
       "    .dataframe thead th {\n",
       "        text-align: right;\n",
       "    }\n",
       "</style>\n",
       "<table border=\"1\" class=\"dataframe\">\n",
       "  <thead>\n",
       "    <tr style=\"text-align: right;\">\n",
       "      <th></th>\n",
       "      <th>days</th>\n",
       "      <th>event</th>\n",
       "      <th>channels</th>\n",
       "      <th>amount</th>\n",
       "      <th>reward</th>\n",
       "      <th>duration</th>\n",
       "      <th>difficulty</th>\n",
       "      <th>offer_type</th>\n",
       "      <th>sum_amount</th>\n",
       "      <th>offer_is_completed</th>\n",
       "      <th>amount_when_completed</th>\n",
       "    </tr>\n",
       "  </thead>\n",
       "  <tbody>\n",
       "    <tr>\n",
       "      <th>280</th>\n",
       "      <td>0.00</td>\n",
       "      <td>offer received</td>\n",
       "      <td>[web, email, mobile]</td>\n",
       "      <td>NaN</td>\n",
       "      <td>2.0</td>\n",
       "      <td>7.0</td>\n",
       "      <td>10.0</td>\n",
       "      <td>discount</td>\n",
       "      <td>0.00</td>\n",
       "      <td>0</td>\n",
       "      <td>0.00</td>\n",
       "    </tr>\n",
       "    <tr>\n",
       "      <th>281</th>\n",
       "      <td>5.50</td>\n",
       "      <td>transaction</td>\n",
       "      <td>NaN</td>\n",
       "      <td>2.32</td>\n",
       "      <td>NaN</td>\n",
       "      <td>NaN</td>\n",
       "      <td>NaN</td>\n",
       "      <td>NaN</td>\n",
       "      <td>0.00</td>\n",
       "      <td>0</td>\n",
       "      <td>0.00</td>\n",
       "    </tr>\n",
       "    <tr>\n",
       "      <th>282</th>\n",
       "      <td>7.00</td>\n",
       "      <td>offer received</td>\n",
       "      <td>[web, email, mobile, social]</td>\n",
       "      <td>NaN</td>\n",
       "      <td>2.0</td>\n",
       "      <td>10.0</td>\n",
       "      <td>10.0</td>\n",
       "      <td>discount</td>\n",
       "      <td>0.00</td>\n",
       "      <td>1</td>\n",
       "      <td>15.04</td>\n",
       "    </tr>\n",
       "    <tr>\n",
       "      <th>283</th>\n",
       "      <td>7.00</td>\n",
       "      <td>transaction</td>\n",
       "      <td>NaN</td>\n",
       "      <td>6.86</td>\n",
       "      <td>NaN</td>\n",
       "      <td>NaN</td>\n",
       "      <td>NaN</td>\n",
       "      <td>NaN</td>\n",
       "      <td>0.00</td>\n",
       "      <td>0</td>\n",
       "      <td>0.00</td>\n",
       "    </tr>\n",
       "    <tr>\n",
       "      <th>284</th>\n",
       "      <td>8.50</td>\n",
       "      <td>offer viewed</td>\n",
       "      <td>[web, email, mobile, social]</td>\n",
       "      <td>NaN</td>\n",
       "      <td>2.0</td>\n",
       "      <td>10.0</td>\n",
       "      <td>10.0</td>\n",
       "      <td>discount</td>\n",
       "      <td>0.00</td>\n",
       "      <td>0</td>\n",
       "      <td>0.00</td>\n",
       "    </tr>\n",
       "    <tr>\n",
       "      <th>285</th>\n",
       "      <td>9.75</td>\n",
       "      <td>transaction</td>\n",
       "      <td>NaN</td>\n",
       "      <td>3.07</td>\n",
       "      <td>NaN</td>\n",
       "      <td>NaN</td>\n",
       "      <td>NaN</td>\n",
       "      <td>NaN</td>\n",
       "      <td>0.00</td>\n",
       "      <td>0</td>\n",
       "      <td>0.00</td>\n",
       "    </tr>\n",
       "    <tr>\n",
       "      <th>286</th>\n",
       "      <td>10.25</td>\n",
       "      <td>transaction</td>\n",
       "      <td>NaN</td>\n",
       "      <td>5.11</td>\n",
       "      <td>NaN</td>\n",
       "      <td>NaN</td>\n",
       "      <td>NaN</td>\n",
       "      <td>NaN</td>\n",
       "      <td>0.00</td>\n",
       "      <td>0</td>\n",
       "      <td>0.00</td>\n",
       "    </tr>\n",
       "    <tr>\n",
       "      <th>287</th>\n",
       "      <td>10.25</td>\n",
       "      <td>offer completed</td>\n",
       "      <td>NaN</td>\n",
       "      <td>NaN</td>\n",
       "      <td>NaN</td>\n",
       "      <td>NaN</td>\n",
       "      <td>NaN</td>\n",
       "      <td>NaN</td>\n",
       "      <td>15.04</td>\n",
       "      <td>0</td>\n",
       "      <td>0.00</td>\n",
       "    </tr>\n",
       "    <tr>\n",
       "      <th>288</th>\n",
       "      <td>11.00</td>\n",
       "      <td>transaction</td>\n",
       "      <td>NaN</td>\n",
       "      <td>2.20</td>\n",
       "      <td>NaN</td>\n",
       "      <td>NaN</td>\n",
       "      <td>NaN</td>\n",
       "      <td>NaN</td>\n",
       "      <td>0.00</td>\n",
       "      <td>0</td>\n",
       "      <td>0.00</td>\n",
       "    </tr>\n",
       "    <tr>\n",
       "      <th>289</th>\n",
       "      <td>12.25</td>\n",
       "      <td>transaction</td>\n",
       "      <td>NaN</td>\n",
       "      <td>5.46</td>\n",
       "      <td>NaN</td>\n",
       "      <td>NaN</td>\n",
       "      <td>NaN</td>\n",
       "      <td>NaN</td>\n",
       "      <td>0.00</td>\n",
       "      <td>0</td>\n",
       "      <td>0.00</td>\n",
       "    </tr>\n",
       "    <tr>\n",
       "      <th>290</th>\n",
       "      <td>14.00</td>\n",
       "      <td>offer received</td>\n",
       "      <td>[web, email, mobile]</td>\n",
       "      <td>NaN</td>\n",
       "      <td>0.0</td>\n",
       "      <td>4.0</td>\n",
       "      <td>0.0</td>\n",
       "      <td>informational</td>\n",
       "      <td>0.00</td>\n",
       "      <td>0</td>\n",
       "      <td>0.00</td>\n",
       "    </tr>\n",
       "    <tr>\n",
       "      <th>291</th>\n",
       "      <td>14.25</td>\n",
       "      <td>transaction</td>\n",
       "      <td>NaN</td>\n",
       "      <td>0.71</td>\n",
       "      <td>NaN</td>\n",
       "      <td>NaN</td>\n",
       "      <td>NaN</td>\n",
       "      <td>NaN</td>\n",
       "      <td>0.00</td>\n",
       "      <td>0</td>\n",
       "      <td>0.00</td>\n",
       "    </tr>\n",
       "    <tr>\n",
       "      <th>292</th>\n",
       "      <td>15.25</td>\n",
       "      <td>transaction</td>\n",
       "      <td>NaN</td>\n",
       "      <td>0.46</td>\n",
       "      <td>NaN</td>\n",
       "      <td>NaN</td>\n",
       "      <td>NaN</td>\n",
       "      <td>NaN</td>\n",
       "      <td>0.00</td>\n",
       "      <td>0</td>\n",
       "      <td>0.00</td>\n",
       "    </tr>\n",
       "    <tr>\n",
       "      <th>293</th>\n",
       "      <td>17.00</td>\n",
       "      <td>offer received</td>\n",
       "      <td>[web, email, mobile]</td>\n",
       "      <td>NaN</td>\n",
       "      <td>5.0</td>\n",
       "      <td>7.0</td>\n",
       "      <td>5.0</td>\n",
       "      <td>bogo</td>\n",
       "      <td>0.00</td>\n",
       "      <td>0</td>\n",
       "      <td>0.00</td>\n",
       "    </tr>\n",
       "    <tr>\n",
       "      <th>294</th>\n",
       "      <td>17.25</td>\n",
       "      <td>transaction</td>\n",
       "      <td>NaN</td>\n",
       "      <td>2.83</td>\n",
       "      <td>NaN</td>\n",
       "      <td>NaN</td>\n",
       "      <td>NaN</td>\n",
       "      <td>NaN</td>\n",
       "      <td>0.00</td>\n",
       "      <td>0</td>\n",
       "      <td>0.00</td>\n",
       "    </tr>\n",
       "    <tr>\n",
       "      <th>295</th>\n",
       "      <td>21.00</td>\n",
       "      <td>offer received</td>\n",
       "      <td>[web, email, mobile]</td>\n",
       "      <td>NaN</td>\n",
       "      <td>2.0</td>\n",
       "      <td>7.0</td>\n",
       "      <td>10.0</td>\n",
       "      <td>discount</td>\n",
       "      <td>0.00</td>\n",
       "      <td>1</td>\n",
       "      <td>13.25</td>\n",
       "    </tr>\n",
       "    <tr>\n",
       "      <th>296</th>\n",
       "      <td>21.25</td>\n",
       "      <td>offer viewed</td>\n",
       "      <td>[web, email, mobile]</td>\n",
       "      <td>NaN</td>\n",
       "      <td>2.0</td>\n",
       "      <td>7.0</td>\n",
       "      <td>10.0</td>\n",
       "      <td>discount</td>\n",
       "      <td>0.00</td>\n",
       "      <td>0</td>\n",
       "      <td>0.00</td>\n",
       "    </tr>\n",
       "    <tr>\n",
       "      <th>297</th>\n",
       "      <td>21.75</td>\n",
       "      <td>transaction</td>\n",
       "      <td>NaN</td>\n",
       "      <td>5.41</td>\n",
       "      <td>NaN</td>\n",
       "      <td>NaN</td>\n",
       "      <td>NaN</td>\n",
       "      <td>NaN</td>\n",
       "      <td>0.00</td>\n",
       "      <td>0</td>\n",
       "      <td>0.00</td>\n",
       "    </tr>\n",
       "    <tr>\n",
       "      <th>298</th>\n",
       "      <td>21.75</td>\n",
       "      <td>offer completed</td>\n",
       "      <td>NaN</td>\n",
       "      <td>NaN</td>\n",
       "      <td>NaN</td>\n",
       "      <td>NaN</td>\n",
       "      <td>NaN</td>\n",
       "      <td>NaN</td>\n",
       "      <td>0.00</td>\n",
       "      <td>0</td>\n",
       "      <td>0.00</td>\n",
       "    </tr>\n",
       "    <tr>\n",
       "      <th>299</th>\n",
       "      <td>22.00</td>\n",
       "      <td>transaction</td>\n",
       "      <td>NaN</td>\n",
       "      <td>1.79</td>\n",
       "      <td>NaN</td>\n",
       "      <td>NaN</td>\n",
       "      <td>NaN</td>\n",
       "      <td>NaN</td>\n",
       "      <td>0.00</td>\n",
       "      <td>0</td>\n",
       "      <td>0.00</td>\n",
       "    </tr>\n",
       "    <tr>\n",
       "      <th>300</th>\n",
       "      <td>22.50</td>\n",
       "      <td>transaction</td>\n",
       "      <td>NaN</td>\n",
       "      <td>6.05</td>\n",
       "      <td>NaN</td>\n",
       "      <td>NaN</td>\n",
       "      <td>NaN</td>\n",
       "      <td>NaN</td>\n",
       "      <td>0.00</td>\n",
       "      <td>0</td>\n",
       "      <td>0.00</td>\n",
       "    </tr>\n",
       "    <tr>\n",
       "      <th>301</th>\n",
       "      <td>22.50</td>\n",
       "      <td>offer completed</td>\n",
       "      <td>NaN</td>\n",
       "      <td>NaN</td>\n",
       "      <td>NaN</td>\n",
       "      <td>NaN</td>\n",
       "      <td>NaN</td>\n",
       "      <td>NaN</td>\n",
       "      <td>13.25</td>\n",
       "      <td>0</td>\n",
       "      <td>0.00</td>\n",
       "    </tr>\n",
       "    <tr>\n",
       "      <th>302</th>\n",
       "      <td>23.75</td>\n",
       "      <td>transaction</td>\n",
       "      <td>NaN</td>\n",
       "      <td>8.40</td>\n",
       "      <td>NaN</td>\n",
       "      <td>NaN</td>\n",
       "      <td>NaN</td>\n",
       "      <td>NaN</td>\n",
       "      <td>0.00</td>\n",
       "      <td>0</td>\n",
       "      <td>0.00</td>\n",
       "    </tr>\n",
       "    <tr>\n",
       "      <th>303</th>\n",
       "      <td>24.00</td>\n",
       "      <td>offer received</td>\n",
       "      <td>[web, email]</td>\n",
       "      <td>NaN</td>\n",
       "      <td>5.0</td>\n",
       "      <td>10.0</td>\n",
       "      <td>20.0</td>\n",
       "      <td>discount</td>\n",
       "      <td>0.00</td>\n",
       "      <td>0</td>\n",
       "      <td>0.00</td>\n",
       "    </tr>\n",
       "    <tr>\n",
       "      <th>304</th>\n",
       "      <td>24.50</td>\n",
       "      <td>transaction</td>\n",
       "      <td>NaN</td>\n",
       "      <td>0.29</td>\n",
       "      <td>NaN</td>\n",
       "      <td>NaN</td>\n",
       "      <td>NaN</td>\n",
       "      <td>NaN</td>\n",
       "      <td>0.00</td>\n",
       "      <td>0</td>\n",
       "      <td>0.00</td>\n",
       "    </tr>\n",
       "    <tr>\n",
       "      <th>305</th>\n",
       "      <td>25.50</td>\n",
       "      <td>transaction</td>\n",
       "      <td>NaN</td>\n",
       "      <td>3.09</td>\n",
       "      <td>NaN</td>\n",
       "      <td>NaN</td>\n",
       "      <td>NaN</td>\n",
       "      <td>NaN</td>\n",
       "      <td>0.00</td>\n",
       "      <td>0</td>\n",
       "      <td>0.00</td>\n",
       "    </tr>\n",
       "    <tr>\n",
       "      <th>306</th>\n",
       "      <td>26.50</td>\n",
       "      <td>transaction</td>\n",
       "      <td>NaN</td>\n",
       "      <td>5.18</td>\n",
       "      <td>NaN</td>\n",
       "      <td>NaN</td>\n",
       "      <td>NaN</td>\n",
       "      <td>NaN</td>\n",
       "      <td>0.00</td>\n",
       "      <td>0</td>\n",
       "      <td>0.00</td>\n",
       "    </tr>\n",
       "    <tr>\n",
       "      <th>307</th>\n",
       "      <td>28.50</td>\n",
       "      <td>transaction</td>\n",
       "      <td>NaN</td>\n",
       "      <td>3.70</td>\n",
       "      <td>NaN</td>\n",
       "      <td>NaN</td>\n",
       "      <td>NaN</td>\n",
       "      <td>NaN</td>\n",
       "      <td>0.00</td>\n",
       "      <td>0</td>\n",
       "      <td>0.00</td>\n",
       "    </tr>\n",
       "  </tbody>\n",
       "</table>\n",
       "</div>"
      ],
      "text/plain": [
       "      days            event                      channels  amount  reward  \\\n",
       "280   0.00   offer received          [web, email, mobile]     NaN     2.0   \n",
       "281   5.50      transaction                           NaN    2.32     NaN   \n",
       "282   7.00   offer received  [web, email, mobile, social]     NaN     2.0   \n",
       "283   7.00      transaction                           NaN    6.86     NaN   \n",
       "284   8.50     offer viewed  [web, email, mobile, social]     NaN     2.0   \n",
       "285   9.75      transaction                           NaN    3.07     NaN   \n",
       "286  10.25      transaction                           NaN    5.11     NaN   \n",
       "287  10.25  offer completed                           NaN     NaN     NaN   \n",
       "288  11.00      transaction                           NaN    2.20     NaN   \n",
       "289  12.25      transaction                           NaN    5.46     NaN   \n",
       "290  14.00   offer received          [web, email, mobile]     NaN     0.0   \n",
       "291  14.25      transaction                           NaN    0.71     NaN   \n",
       "292  15.25      transaction                           NaN    0.46     NaN   \n",
       "293  17.00   offer received          [web, email, mobile]     NaN     5.0   \n",
       "294  17.25      transaction                           NaN    2.83     NaN   \n",
       "295  21.00   offer received          [web, email, mobile]     NaN     2.0   \n",
       "296  21.25     offer viewed          [web, email, mobile]     NaN     2.0   \n",
       "297  21.75      transaction                           NaN    5.41     NaN   \n",
       "298  21.75  offer completed                           NaN     NaN     NaN   \n",
       "299  22.00      transaction                           NaN    1.79     NaN   \n",
       "300  22.50      transaction                           NaN    6.05     NaN   \n",
       "301  22.50  offer completed                           NaN     NaN     NaN   \n",
       "302  23.75      transaction                           NaN    8.40     NaN   \n",
       "303  24.00   offer received                  [web, email]     NaN     5.0   \n",
       "304  24.50      transaction                           NaN    0.29     NaN   \n",
       "305  25.50      transaction                           NaN    3.09     NaN   \n",
       "306  26.50      transaction                           NaN    5.18     NaN   \n",
       "307  28.50      transaction                           NaN    3.70     NaN   \n",
       "\n",
       "     duration  difficulty     offer_type  sum_amount  offer_is_completed  \\\n",
       "280       7.0        10.0       discount        0.00                   0   \n",
       "281       NaN         NaN            NaN        0.00                   0   \n",
       "282      10.0        10.0       discount        0.00                   1   \n",
       "283       NaN         NaN            NaN        0.00                   0   \n",
       "284      10.0        10.0       discount        0.00                   0   \n",
       "285       NaN         NaN            NaN        0.00                   0   \n",
       "286       NaN         NaN            NaN        0.00                   0   \n",
       "287       NaN         NaN            NaN       15.04                   0   \n",
       "288       NaN         NaN            NaN        0.00                   0   \n",
       "289       NaN         NaN            NaN        0.00                   0   \n",
       "290       4.0         0.0  informational        0.00                   0   \n",
       "291       NaN         NaN            NaN        0.00                   0   \n",
       "292       NaN         NaN            NaN        0.00                   0   \n",
       "293       7.0         5.0           bogo        0.00                   0   \n",
       "294       NaN         NaN            NaN        0.00                   0   \n",
       "295       7.0        10.0       discount        0.00                   1   \n",
       "296       7.0        10.0       discount        0.00                   0   \n",
       "297       NaN         NaN            NaN        0.00                   0   \n",
       "298       NaN         NaN            NaN        0.00                   0   \n",
       "299       NaN         NaN            NaN        0.00                   0   \n",
       "300       NaN         NaN            NaN        0.00                   0   \n",
       "301       NaN         NaN            NaN       13.25                   0   \n",
       "302       NaN         NaN            NaN        0.00                   0   \n",
       "303      10.0        20.0       discount        0.00                   0   \n",
       "304       NaN         NaN            NaN        0.00                   0   \n",
       "305       NaN         NaN            NaN        0.00                   0   \n",
       "306       NaN         NaN            NaN        0.00                   0   \n",
       "307       NaN         NaN            NaN        0.00                   0   \n",
       "\n",
       "     amount_when_completed  \n",
       "280                   0.00  \n",
       "281                   0.00  \n",
       "282                  15.04  \n",
       "283                   0.00  \n",
       "284                   0.00  \n",
       "285                   0.00  \n",
       "286                   0.00  \n",
       "287                   0.00  \n",
       "288                   0.00  \n",
       "289                   0.00  \n",
       "290                   0.00  \n",
       "291                   0.00  \n",
       "292                   0.00  \n",
       "293                   0.00  \n",
       "294                   0.00  \n",
       "295                  13.25  \n",
       "296                   0.00  \n",
       "297                   0.00  \n",
       "298                   0.00  \n",
       "299                   0.00  \n",
       "300                   0.00  \n",
       "301                   0.00  \n",
       "302                   0.00  \n",
       "303                   0.00  \n",
       "304                   0.00  \n",
       "305                   0.00  \n",
       "306                   0.00  \n",
       "307                   0.00  "
      ]
     },
     "execution_count": 557,
     "metadata": {},
     "output_type": "execute_result"
    }
   ],
   "source": [
    "col_inspect = ['days', 'event', 'channels','amount', 'reward', 'duration', 'difficulty', 'offer_type', 'sum_amount', 'offer_is_completed','amount_when_completed']\n",
    "#transcript[transcript['person'] == '78afa995795e4d85b5d9ceeca43f5fef'][col_inspect]\n",
    "#transcript[transcript['person'] == '0009655768c64bdeb2e877511632db8f'][col_inspect]\n",
    "#transcript[transcript['person'] == 'b3a1272bc9904337b331bf348c3e8c17'][col_inspect]\n",
    "#transcript[transcript['person'] == '00840a2ca5d2408e982d56544dc14ffd'][col_inspect] \n",
    "transcript[transcript['person'] == '00840a2ca5d2408e982d56544dc14ffd'][col_inspect] "
   ]
  },
  {
   "cell_type": "markdown",
   "metadata": {},
   "source": [
    "## How much the customer spend after achieving the reward difficulty"
   ]
  },
  {
   "cell_type": "markdown",
   "metadata": {},
   "source": [
    "As we can see in the following code we calculated the extra spending from the customer given a reward difficulty, we saved this information in the list `amount_difference`. The  bar chart of these extra spending show there is linear decreasing behavior and most of the customer spend between 0 and 10 dollars, but there is also a singificative amount of customers with the range of sepnding: 10-20 and above of 20."
   ]
  },
  {
   "cell_type": "code",
   "execution_count": 460,
   "metadata": {},
   "outputs": [],
   "source": [
    "amount_difference = []\n",
    "for index, row in transcript[transcript['amount_when_completed']>0][col_inspect].iterrows():\n",
    "    #print(row['sum_amount'], transcript.at[row['offer_index_completed'], 'difficulty'])\n",
    "    diff_amount = row['amount_when_completed'] - row['difficulty']\n",
    "    if diff_amount < 0: print(transcript.at[index, 'person'])\n",
    "    amount_difference.append(diff_amount)\n",
    "amount_difference = sorted(amount_difference)"
   ]
  },
  {
   "cell_type": "code",
   "execution_count": 474,
   "metadata": {},
   "outputs": [
    {
     "data": {
      "text/plain": [
       "Text(0.5, 1.0, 'Distribution of the differences between\\nthe sum amount and difficulty reward')"
      ]
     },
     "execution_count": 474,
     "metadata": {},
     "output_type": "execute_result"
    },
    {
     "data": {
      "image/png": "[encoded data removed]",
      "text/plain": [
       "<Figure size 432x288 with 1 Axes>"
      ]
     },
     "metadata": {
      "needs_background": "light"
     },
     "output_type": "display_data"
    }
   ],
   "source": [
    "bins = np.arange(0, 50, 3) # fixed bin size\n",
    "plt.hist(amount_difference, bins=bins, alpha=0.5)\n",
    "plt.title(\"Distribution of the differences between\\nthe sum amount and difficulty reward\")"
   ]
  },
  {
   "cell_type": "markdown",
   "metadata": {},
   "source": [
    "## Some analysis by completed status"
   ]
  },
  {
   "cell_type": "markdown",
   "metadata": {},
   "source": [
    "### Offer type balanced\n",
    "\n",
    "Through this grouping, we can know how well balanced is the offer received with the **completed** status:"
   ]
  },
  {
   "cell_type": "code",
   "execution_count": 477,
   "metadata": {},
   "outputs": [
    {
     "name": "stdout",
     "output_type": "stream",
     "text": [
      "event           offer_type     offer_is_completed\n",
      "offer received  bogo           0                     19297\n",
      "                               1                     11202\n",
      "                discount       0                     17936\n",
      "                               1                     12607\n",
      "                informational  0                     15235\n",
      "offer viewed    bogo           0                     25449\n",
      "                discount       0                     21445\n",
      "                informational  0                     10831\n",
      "Name: person, dtype: int64\n"
     ]
    }
   ],
   "source": [
    "print(transcript.groupby(['event', 'offer_type','offer_is_completed']).count()['person'])"
   ]
  },
  {
   "cell_type": "markdown",
   "metadata": {},
   "source": [
    "In the next table we can summarized the percentage of offers completed from the total of received ones.\n",
    "\n",
    "|          | #Offer Received | %Completed |\n",
    "|----------|-----------------|------------|\n",
    "| BOGO     | 30.499          | 37%        |\n",
    "| Discount | 30.543          | 41%        |\n",
    "\n",
    "So we have an imbalanced dataset for both kind of offers.\n"
   ]
  },
  {
   "cell_type": "code",
   "execution_count": 496,
   "metadata": {},
   "outputs": [],
   "source": [
    "#transcript.groupby(['gender','offer_is_completed']).count()['person']"
   ]
  },
  {
   "cell_type": "markdown",
   "metadata": {},
   "source": [
    "### Analysis of completed offer by gender\n",
    "| Gender | Completed? (1 eq yes) | Number of Offers | % to each gender |\n",
    "|-------:|-----------------------|------------------|------------------|\n",
    "| F      | 0                     | 102.437          | 90%              |\n",
    "| F      | 1                     | 10.664           | 10%              |\n",
    "| M      | 0                     | 143.861          | 92%              |\n",
    "| M      | 1                     | 11.829           | 8%               |\n",
    "| O      | 0                     | 3.581            | 90%              |\n",
    "| O      | 1                     | 390              | 10%              |\n"
   ]
  },
  {
   "cell_type": "markdown",
   "metadata": {},
   "source": [
    "### Analysis of completed offer by age, using histograms\n",
    "\n",
    "The left histograms contain the distribution of completed offer by ager and in the right the non-buying option.\n",
    "We can notice some distinction in the under 40 group and for those with age above of 100 (probably an age abnormalitie)"
   ]
  },
  {
   "cell_type": "code",
   "execution_count": 529,
   "metadata": {},
   "outputs": [
    {
     "data": {
      "text/plain": [
       "<AxesSubplot:title={'center':'Age histogram with offer not completed'}>"
      ]
     },
     "execution_count": 529,
     "metadata": {},
     "output_type": "execute_result"
    },
    {
     "data": {
      "image/png": "[encoded data removed]",
      "text/plain": [
       "<Figure size 1080x360 with 2 Axes>"
      ]
     },
     "metadata": {
      "needs_background": "light"
     },
     "output_type": "display_data"
    }
   ],
   "source": [
    "fig, axs = plt.subplots(1,2, figsize=(15, 5))\n",
    "axs[0].set_title('Age histogram with offer completed')\n",
    "axs[1].set_title('Age histogram with offer not completed')\n",
    "transcript[transcript['offer_is_completed'] == 1]['age'].hist(ax=axs[0])\n",
    "transcript[transcript['offer_is_completed'] == 0]['age'].hist(ax=axs[1])"
   ]
  },
  {
   "cell_type": "markdown",
   "metadata": {},
   "source": [
    "### Analysis of completed offer by income, using histograms\n",
    "\n",
    "Comparing both histograms, we can notice a lower rate of offer completed in the incomes below 50.000. So split these information in income range could be a good option to create new variables."
   ]
  },
  {
   "cell_type": "code",
   "execution_count": 528,
   "metadata": {},
   "outputs": [
    {
     "data": {
      "text/plain": [
       "<AxesSubplot:title={'center':'Income histogram with offer not completed'}>"
      ]
     },
     "execution_count": 528,
     "metadata": {},
     "output_type": "execute_result"
    },
    {
     "data": {
      "image/png": "[encoded data removed]",
      "text/plain": [
       "<Figure size 1080x360 with 2 Axes>"
      ]
     },
     "metadata": {
      "needs_background": "light"
     },
     "output_type": "display_data"
    }
   ],
   "source": [
    "fig, axs = plt.subplots(1,2, figsize=(15, 5))\n",
    "axs[0].set_title('Income histogram with offer completed')\n",
    "axs[1].set_title('Income histogram with offer not completed')\n",
    "transcript[transcript['offer_is_completed'] == 1]['income'].hist(ax=axs[0])\n",
    "transcript[transcript['offer_is_completed'] == 0]['income'].hist(ax=axs[1])"
   ]
  },
  {
   "cell_type": "markdown",
   "metadata": {},
   "source": [
    "### Analysis of completed offer by Become Member date, using histograms\n",
    "\n",
    "In the case of become member date, we can notice an increasing rate of offers not completed for those members near of 2018."
   ]
  },
  {
   "cell_type": "code",
   "execution_count": 527,
   "metadata": {},
   "outputs": [
    {
     "data": {
      "text/plain": [
       "<AxesSubplot:title={'center':'Became member date histogram with offer not completed'}>"
      ]
     },
     "execution_count": 527,
     "metadata": {},
     "output_type": "execute_result"
    },
    {
     "data": {
      "image/png": "[encoded data removed]",
      "text/plain": [
       "<Figure size 1080x360 with 2 Axes>"
      ]
     },
     "metadata": {
      "needs_background": "light"
     },
     "output_type": "display_data"
    }
   ],
   "source": [
    "fig, axs = plt.subplots(1,2, figsize=(15, 5))\n",
    "axs[0].set_title('Became member date histogram with offer completed')\n",
    "axs[1].set_title('Became member date histogram with offer not completed')\n",
    "transcript[transcript['offer_is_completed'] == 1]['became_member_on'].hist(ax=axs[0])\n",
    "transcript[transcript['offer_is_completed'] == 0]['became_member_on'].hist(ax=axs[1])"
   ]
  },
  {
   "cell_type": "code",
   "execution_count": null,
   "metadata": {},
   "outputs": [],
   "source": []
  },
  {
   "cell_type": "code",
   "execution_count": null,
   "metadata": {},
   "outputs": [],
   "source": []
  }
 ],
 "metadata": {
  "kernelspec": {
   "display_name": "Python 3",
   "language": "python",
   "name": "python3"
  },
  "language_info": {
   "codemirror_mode": {
    "name": "ipython",
    "version": 3
   },
   "file_extension": ".py",
   "mimetype": "text/x-python",
   "name": "python",
   "nbconvert_exporter": "python",
   "pygments_lexer": "ipython3",
   "version": "3.8.5"
  }
 },
 "nbformat": 4,
 "nbformat_minor": 4
}
